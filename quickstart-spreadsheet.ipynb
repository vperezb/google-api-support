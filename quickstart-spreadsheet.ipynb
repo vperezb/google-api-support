{
 "cells": [
  {
   "cell_type": "code",
   "execution_count": 1,
   "id": "3198a6a7-f883-4953-90cc-c66b10dd5a4f",
   "metadata": {},
   "outputs": [],
   "source": [
    "from gapis import spreadsheets"
   ]
  },
  {
   "cell_type": "code",
   "execution_count": 2,
   "id": "4e0b4b5a-60fc-4d93-aba7-4346f624ac48",
   "metadata": {},
   "outputs": [],
   "source": [
    "TEST_FILE_ID = '19Q8y1uR8SD27GiVN200e87ufoMklH2KBh2NfyQTEt9Q'"
   ]
  },
  {
   "cell_type": "code",
   "execution_count": 3,
   "id": "d2df680c-f191-4dfb-be9c-081cbd2a210f",
   "metadata": {},
   "outputs": [
    {
     "data": {
      "text/plain": [
       "{'spreadsheetId': '19Q8y1uR8SD27GiVN200e87ufoMklH2KBh2NfyQTEt9Q',\n",
       " 'replies': [{'addSheet': {'properties': {'sheetId': 324521761,\n",
       "     'title': 'new_page_test',\n",
       "     'index': 3,\n",
       "     'sheetType': 'GRID',\n",
       "     'gridProperties': {'rowCount': 1000, 'columnCount': 26}}}}]}"
      ]
     },
     "execution_count": 3,
     "metadata": {},
     "output_type": "execute_result"
    }
   ],
   "source": [
    "response = spreadsheets.add_sheet_to_spreadsheet(TEST_FILE_ID, 'new_page_test')"
   ]
  },
  {
   "cell_type": "code",
   "execution_count": null,
   "id": "1d7ded58-e13c-42c8-a0cd-f10e7dea8c1d",
   "metadata": {},
   "outputs": [],
   "source": [
    "response['spreadsheetId']\n",
    "response['replies'][0]['addSheet']['properties']['title']"
   ]
  }
 ],
 "metadata": {
  "kernelspec": {
   "display_name": "Python 3 (ipykernel)",
   "language": "python",
   "name": "python3"
  },
  "language_info": {
   "codemirror_mode": {
    "name": "ipython",
    "version": 3
   },
   "file_extension": ".py",
   "mimetype": "text/x-python",
   "name": "python",
   "nbconvert_exporter": "python",
   "pygments_lexer": "ipython3",
   "version": "3.10.6"
  }
 },
 "nbformat": 4,
 "nbformat_minor": 5
}
