{
 "cells": [
  {
   "cell_type": "markdown",
   "id": "9f5b7d8d-de59-474b-a91e-c93dfb5566fa",
   "metadata": {},
   "source": [
    "## Authorise with `OAuth` or `service account` in the get_service function\n",
    "\n",
    "In order to enable operations against documents stored in Google Drive, we need to give the \"program\" enough permissions.\n",
    "\n",
    "This library supports two authorisation methods:\n",
    "\n",
    "### Using service account\n",
    "\n",
    "Best for server to server solutions as it doesnt require any further human action \n",
    "\n",
    "### Using Oauth\n",
    "\n",
    "Best for user applications as a dialogue pops up to accept the authorisation"
   ]
  },
  {
   "cell_type": "markdown",
   "id": "4651e451-ee2f-4bf4-93b3-f18ef5f46ac9",
   "metadata": {},
   "source": [
    "## How this test works\n",
    "\n",
    "I have two files:\n",
    "    - Sheets file: Is NOT shared with the service account\n",
    "    - Slides file: Is shared with the service account `client_email`\n",
    "\n",
    "We will see that when service account is used, only google sheets file will have authentication.\n",
    "\n",
    "- If `GOOGLE_OAUTH_CREDENTIALS` provided, oauth method will be used\n",
    "- If `GOOGLE_APPLICATION_CREDENTIALS` provided, service account method will be used\n",
    "- If `GOOGLE_OAUTH_CREDENTIALS` and `GOOGLE_APPLICATION_CREDENTIALS` provided, service account method will be used\n",
    "\n",
    "Remember you can also set the environment variable after raising the environment, depending on the console you are using.\n",
    "\n",
    "Using bash can be done by: `export GOOGLE_APPLICATION_CREDENTIALS=C:/path/to/service_account_credentials.json`"
   ]
  },
  {
   "cell_type": "code",
   "execution_count": 82,
   "id": "a7e74991-d828-4fbd-a61c-ad824c4b657d",
   "metadata": {},
   "outputs": [],
   "source": [
    "import sys\n",
    "import os\n",
    "\n",
    "sys.path.append('../../GoogleApiSupport')\n",
    "\n",
    "import slides\n",
    "import sheets\n",
    "import auth\n",
    "\n",
    "SHEETS_DOCUMENT_ID = '1HNXs8kF2bkOdpi8lFeVEL1U0LByyaBX1BuzvHFNzHys'\n",
    "SLIDES_DOCUMENT_ID = '1te1PB84mqpgwxykqmkFp_wkeNa4eih5OQlzgaYlQuyk'\n",
    "\n",
    "GOOGLE_OAUTH_CREDENTIALS = r\"C:\\path\\to\\oauth_credentials.json\"\n",
    "GOOGLE_APPLICATION_CREDENTIALS = r\"C:\\path\\to\\service_account_credentials.json\""
   ]
  },
  {
   "cell_type": "markdown",
   "id": "7b47ea1d-437e-4787-8135-8f7ca74b8fe1",
   "metadata": {},
   "source": [
    "## Test without credentials"
   ]
  },
  {
   "cell_type": "code",
   "execution_count": 69,
   "id": "285571ba-670a-4c4b-837c-c71a4d94ca06",
   "metadata": {},
   "outputs": [],
   "source": [
    "if os.environ.get('GOOGLE_OAUTH_CREDENTIALS') : del os.environ['GOOGLE_OAUTH_CREDENTIALS']\n",
    "if os.environ.get('GOOGLE_APPLICATION_CREDENTIALS') : del os.environ['GOOGLE_APPLICATION_CREDENTIALS']"
   ]
  },
  {
   "cell_type": "code",
   "execution_count": 70,
   "id": "2b4202c0-460b-4f2d-810d-24ff30e73af2",
   "metadata": {},
   "outputs": [
    {
     "ename": "TypeError",
     "evalue": "stat: path should be string, bytes, os.PathLike or integer, not NoneType",
     "output_type": "error",
     "traceback": [
      "\u001b[1;31m---------------------------------------------------------------------------\u001b[0m",
      "\u001b[1;31mTypeError\u001b[0m                                 Traceback (most recent call last)",
      "Cell \u001b[1;32mIn [70], line 1\u001b[0m\n\u001b[1;32m----> 1\u001b[0m info_sheets \u001b[38;5;241m=\u001b[39m \u001b[43msheets\u001b[49m\u001b[38;5;241;43m.\u001b[39;49m\u001b[43mget_sheet_info\u001b[49m\u001b[43m(\u001b[49m\u001b[43mSHEETS_DOCUMENT_ID\u001b[49m\u001b[43m)\u001b[49m\n\u001b[0;32m      2\u001b[0m info_sheets[\u001b[38;5;124m'\u001b[39m\u001b[38;5;124mproperties\u001b[39m\u001b[38;5;124m'\u001b[39m][\u001b[38;5;124m'\u001b[39m\u001b[38;5;124mtitle\u001b[39m\u001b[38;5;124m'\u001b[39m]\n",
      "File \u001b[1;32m~\\Documents\\GitHub\\google-api-support\\docs\\examples\\../../GoogleApiSupport\\sheets.py:15\u001b[0m, in \u001b[0;36mget_sheet_info\u001b[1;34m(sheetId, includeGridData)\u001b[0m\n\u001b[0;32m      6\u001b[0m \u001b[38;5;28;01mdef\u001b[39;00m \u001b[38;5;21mget_sheet_info\u001b[39m(sheetId, includeGridData\u001b[38;5;241m=\u001b[39m\u001b[38;5;28;01mFalse\u001b[39;00m):\n\u001b[0;32m      7\u001b[0m     \u001b[38;5;124;03m\"\"\"Returns an spreadsheet info object\u001b[39;00m\n\u001b[0;32m      8\u001b[0m \n\u001b[0;32m      9\u001b[0m \u001b[38;5;124;03m    Args:\u001b[39;00m\n\u001b[1;32m   (...)\u001b[0m\n\u001b[0;32m     13\u001b[0m \u001b[38;5;124;03m        dict: Object with a lot of sheet information such title, url, colors, alignment and much more.\u001b[39;00m\n\u001b[0;32m     14\u001b[0m \u001b[38;5;124;03m    \"\"\"\u001b[39;00m\n\u001b[1;32m---> 15\u001b[0m     service \u001b[38;5;241m=\u001b[39m \u001b[43mauth\u001b[49m\u001b[38;5;241;43m.\u001b[39;49m\u001b[43mget_service\u001b[49m\u001b[43m(\u001b[49m\u001b[38;5;124;43m\"\u001b[39;49m\u001b[38;5;124;43msheets\u001b[39;49m\u001b[38;5;124;43m\"\u001b[39;49m\u001b[43m)\u001b[49m\n\u001b[0;32m     16\u001b[0m     response \u001b[38;5;241m=\u001b[39m service\u001b[38;5;241m.\u001b[39mspreadsheets()\u001b[38;5;241m.\u001b[39mget(spreadsheetId\u001b[38;5;241m=\u001b[39msheetId, includeGridData\u001b[38;5;241m=\u001b[39mincludeGridData)\u001b[38;5;241m.\u001b[39mexecute()\n\u001b[0;32m     17\u001b[0m     \u001b[38;5;28;01mreturn\u001b[39;00m response\n",
      "File \u001b[1;32m~\\Documents\\GitHub\\google-api-support\\docs\\examples\\../../GoogleApiSupport\\auth.py:47\u001b[0m, in \u001b[0;36mget_service\u001b[1;34m(api_name, service_credentials_path, oauth_credentials_path, additional_apis)\u001b[0m\n\u001b[0;32m     44\u001b[0m     \u001b[38;5;28;01mreturn\u001b[39;00m service\n\u001b[0;32m     46\u001b[0m \u001b[38;5;28;01melif\u001b[39;00m \u001b[38;5;129;01mnot\u001b[39;00m service_credentials_path: \n\u001b[1;32m---> 47\u001b[0m     oauth_credentials_path \u001b[38;5;241m=\u001b[39m \u001b[43mget_oauth_credentials_path\u001b[49m\u001b[43m(\u001b[49m\u001b[43moauth_credentials_path\u001b[49m\u001b[43m)\u001b[49m\n\u001b[0;32m     48\u001b[0m     \u001b[38;5;66;03m# we enable at once all the scopes needed when using the lib, otherwise we'll need to manage\u001b[39;00m\n\u001b[0;32m     49\u001b[0m     \u001b[38;5;66;03m# deleting old token.json files when changing from one scope to the other\u001b[39;00m\n\u001b[0;32m     50\u001b[0m     scopes \u001b[38;5;241m=\u001b[39m apis\u001b[38;5;241m.\u001b[39mall_scopes()\n",
      "File \u001b[1;32m~\\Documents\\GitHub\\google-api-support\\docs\\examples\\../../GoogleApiSupport\\auth.py:108\u001b[0m, in \u001b[0;36mget_oauth_credentials_path\u001b[1;34m(oauth_credentials_path)\u001b[0m\n\u001b[0;32m    105\u001b[0m     oauth_credentials_path \u001b[38;5;241m=\u001b[39m os\u001b[38;5;241m.\u001b[39menviron[\u001b[38;5;124m'\u001b[39m\u001b[38;5;124mGOOGLE_OAUTH_CREDENTIALS\u001b[39m\u001b[38;5;124m'\u001b[39m]\n\u001b[0;32m    106\u001b[0m     logging\u001b[38;5;241m.\u001b[39minfo(\u001b[38;5;124m'\u001b[39m\u001b[38;5;124mTrying to use credentials from \u001b[39m\u001b[38;5;124m'\u001b[39m \u001b[38;5;241m+\u001b[39m \u001b[38;5;124m'\u001b[39m\u001b[38;5;124mMethod 1: Environment variable GOOGLE_OAUTH_CREDENTIALS | \u001b[39m\u001b[38;5;124m'\u001b[39m \u001b[38;5;241m+\u001b[39m oauth_credentials_path)     \n\u001b[1;32m--> 108\u001b[0m \u001b[38;5;28;01mif\u001b[39;00m (\u001b[43mos\u001b[49m\u001b[38;5;241;43m.\u001b[39;49m\u001b[43mpath\u001b[49m\u001b[38;5;241;43m.\u001b[39;49m\u001b[43misfile\u001b[49m\u001b[43m(\u001b[49m\u001b[43moauth_credentials_path\u001b[49m\u001b[43m)\u001b[49m):\n\u001b[0;32m    109\u001b[0m     logging\u001b[38;5;241m.\u001b[39minfo(\u001b[38;5;124m'\u001b[39m\u001b[38;5;124mFound file credentials in\u001b[39m\u001b[38;5;124m'\u001b[39m \u001b[38;5;241m+\u001b[39m oauth_credentials_path)\n\u001b[0;32m    110\u001b[0m     \u001b[38;5;28;01mreturn\u001b[39;00m oauth_credentials_path\n",
      "File \u001b[1;32m~\\AppData\\Local\\Programs\\Python\\Python310\\lib\\genericpath.py:30\u001b[0m, in \u001b[0;36misfile\u001b[1;34m(path)\u001b[0m\n\u001b[0;32m     28\u001b[0m \u001b[38;5;124;03m\"\"\"Test whether a path is a regular file\"\"\"\u001b[39;00m\n\u001b[0;32m     29\u001b[0m \u001b[38;5;28;01mtry\u001b[39;00m:\n\u001b[1;32m---> 30\u001b[0m     st \u001b[38;5;241m=\u001b[39m \u001b[43mos\u001b[49m\u001b[38;5;241;43m.\u001b[39;49m\u001b[43mstat\u001b[49m\u001b[43m(\u001b[49m\u001b[43mpath\u001b[49m\u001b[43m)\u001b[49m\n\u001b[0;32m     31\u001b[0m \u001b[38;5;28;01mexcept\u001b[39;00m (\u001b[38;5;167;01mOSError\u001b[39;00m, \u001b[38;5;167;01mValueError\u001b[39;00m):\n\u001b[0;32m     32\u001b[0m     \u001b[38;5;28;01mreturn\u001b[39;00m \u001b[38;5;28;01mFalse\u001b[39;00m\n",
      "\u001b[1;31mTypeError\u001b[0m: stat: path should be string, bytes, os.PathLike or integer, not NoneType"
     ]
    }
   ],
   "source": [
    "info_sheets = sheets.get_sheet_info(SHEETS_DOCUMENT_ID)\n",
    "info_sheets['properties']['title']"
   ]
  },
  {
   "cell_type": "code",
   "execution_count": 71,
   "id": "d5aa3b52-0f19-4b84-86db-ec07a9b76f11",
   "metadata": {},
   "outputs": [
    {
     "ename": "TypeError",
     "evalue": "stat: path should be string, bytes, os.PathLike or integer, not NoneType",
     "output_type": "error",
     "traceback": [
      "\u001b[1;31m---------------------------------------------------------------------------\u001b[0m",
      "\u001b[1;31mTypeError\u001b[0m                                 Traceback (most recent call last)",
      "Cell \u001b[1;32mIn [71], line 1\u001b[0m\n\u001b[1;32m----> 1\u001b[0m info_slides \u001b[38;5;241m=\u001b[39m \u001b[43mslides\u001b[49m\u001b[38;5;241;43m.\u001b[39;49m\u001b[43mget_presentation_info\u001b[49m\u001b[43m(\u001b[49m\u001b[43mSLIDES_DOCUMENT_ID\u001b[49m\u001b[43m)\u001b[49m\n\u001b[0;32m      2\u001b[0m info_slides[\u001b[38;5;124m'\u001b[39m\u001b[38;5;124mtitle\u001b[39m\u001b[38;5;124m'\u001b[39m]\n",
      "File \u001b[1;32m~\\Documents\\GitHub\\google-api-support\\docs\\examples\\../../GoogleApiSupport\\slides.py:47\u001b[0m, in \u001b[0;36mget_presentation_info\u001b[1;34m(presentation_id)\u001b[0m\n\u001b[0;32m     46\u001b[0m \u001b[38;5;28;01mdef\u001b[39;00m \u001b[38;5;21mget_presentation_info\u001b[39m(presentation_id):  \u001b[38;5;66;03m# Class ??\u001b[39;00m\n\u001b[1;32m---> 47\u001b[0m     service \u001b[38;5;241m=\u001b[39m \u001b[43mauth\u001b[49m\u001b[38;5;241;43m.\u001b[39;49m\u001b[43mget_service\u001b[49m\u001b[43m(\u001b[49m\u001b[38;5;124;43m\"\u001b[39;49m\u001b[38;5;124;43mslides\u001b[39;49m\u001b[38;5;124;43m\"\u001b[39;49m\u001b[43m)\u001b[49m\n\u001b[0;32m     48\u001b[0m     presentation \u001b[38;5;241m=\u001b[39m service\u001b[38;5;241m.\u001b[39mpresentations()\u001b[38;5;241m.\u001b[39mget(\n\u001b[0;32m     49\u001b[0m         presentationId\u001b[38;5;241m=\u001b[39mpresentation_id)\u001b[38;5;241m.\u001b[39mexecute()\n\u001b[0;32m     50\u001b[0m     \u001b[38;5;28;01mreturn\u001b[39;00m presentation\n",
      "File \u001b[1;32m~\\Documents\\GitHub\\google-api-support\\docs\\examples\\../../GoogleApiSupport\\auth.py:47\u001b[0m, in \u001b[0;36mget_service\u001b[1;34m(api_name, service_credentials_path, oauth_credentials_path, additional_apis)\u001b[0m\n\u001b[0;32m     44\u001b[0m     \u001b[38;5;28;01mreturn\u001b[39;00m service\n\u001b[0;32m     46\u001b[0m \u001b[38;5;28;01melif\u001b[39;00m \u001b[38;5;129;01mnot\u001b[39;00m service_credentials_path: \n\u001b[1;32m---> 47\u001b[0m     oauth_credentials_path \u001b[38;5;241m=\u001b[39m \u001b[43mget_oauth_credentials_path\u001b[49m\u001b[43m(\u001b[49m\u001b[43moauth_credentials_path\u001b[49m\u001b[43m)\u001b[49m\n\u001b[0;32m     48\u001b[0m     \u001b[38;5;66;03m# we enable at once all the scopes needed when using the lib, otherwise we'll need to manage\u001b[39;00m\n\u001b[0;32m     49\u001b[0m     \u001b[38;5;66;03m# deleting old token.json files when changing from one scope to the other\u001b[39;00m\n\u001b[0;32m     50\u001b[0m     scopes \u001b[38;5;241m=\u001b[39m apis\u001b[38;5;241m.\u001b[39mall_scopes()\n",
      "File \u001b[1;32m~\\Documents\\GitHub\\google-api-support\\docs\\examples\\../../GoogleApiSupport\\auth.py:108\u001b[0m, in \u001b[0;36mget_oauth_credentials_path\u001b[1;34m(oauth_credentials_path)\u001b[0m\n\u001b[0;32m    105\u001b[0m     oauth_credentials_path \u001b[38;5;241m=\u001b[39m os\u001b[38;5;241m.\u001b[39menviron[\u001b[38;5;124m'\u001b[39m\u001b[38;5;124mGOOGLE_OAUTH_CREDENTIALS\u001b[39m\u001b[38;5;124m'\u001b[39m]\n\u001b[0;32m    106\u001b[0m     logging\u001b[38;5;241m.\u001b[39minfo(\u001b[38;5;124m'\u001b[39m\u001b[38;5;124mTrying to use credentials from \u001b[39m\u001b[38;5;124m'\u001b[39m \u001b[38;5;241m+\u001b[39m \u001b[38;5;124m'\u001b[39m\u001b[38;5;124mMethod 1: Environment variable GOOGLE_OAUTH_CREDENTIALS | \u001b[39m\u001b[38;5;124m'\u001b[39m \u001b[38;5;241m+\u001b[39m oauth_credentials_path)     \n\u001b[1;32m--> 108\u001b[0m \u001b[38;5;28;01mif\u001b[39;00m (\u001b[43mos\u001b[49m\u001b[38;5;241;43m.\u001b[39;49m\u001b[43mpath\u001b[49m\u001b[38;5;241;43m.\u001b[39;49m\u001b[43misfile\u001b[49m\u001b[43m(\u001b[49m\u001b[43moauth_credentials_path\u001b[49m\u001b[43m)\u001b[49m):\n\u001b[0;32m    109\u001b[0m     logging\u001b[38;5;241m.\u001b[39minfo(\u001b[38;5;124m'\u001b[39m\u001b[38;5;124mFound file credentials in\u001b[39m\u001b[38;5;124m'\u001b[39m \u001b[38;5;241m+\u001b[39m oauth_credentials_path)\n\u001b[0;32m    110\u001b[0m     \u001b[38;5;28;01mreturn\u001b[39;00m oauth_credentials_path\n",
      "File \u001b[1;32m~\\AppData\\Local\\Programs\\Python\\Python310\\lib\\genericpath.py:30\u001b[0m, in \u001b[0;36misfile\u001b[1;34m(path)\u001b[0m\n\u001b[0;32m     28\u001b[0m \u001b[38;5;124;03m\"\"\"Test whether a path is a regular file\"\"\"\u001b[39;00m\n\u001b[0;32m     29\u001b[0m \u001b[38;5;28;01mtry\u001b[39;00m:\n\u001b[1;32m---> 30\u001b[0m     st \u001b[38;5;241m=\u001b[39m \u001b[43mos\u001b[49m\u001b[38;5;241;43m.\u001b[39;49m\u001b[43mstat\u001b[49m\u001b[43m(\u001b[49m\u001b[43mpath\u001b[49m\u001b[43m)\u001b[49m\n\u001b[0;32m     31\u001b[0m \u001b[38;5;28;01mexcept\u001b[39;00m (\u001b[38;5;167;01mOSError\u001b[39;00m, \u001b[38;5;167;01mValueError\u001b[39;00m):\n\u001b[0;32m     32\u001b[0m     \u001b[38;5;28;01mreturn\u001b[39;00m \u001b[38;5;28;01mFalse\u001b[39;00m\n",
      "\u001b[1;31mTypeError\u001b[0m: stat: path should be string, bytes, os.PathLike or integer, not NoneType"
     ]
    }
   ],
   "source": [
    "info_slides = slides.get_presentation_info(SLIDES_DOCUMENT_ID)\n",
    "info_slides['title']"
   ]
  },
  {
   "cell_type": "markdown",
   "id": "1577ad8b-64d1-48e5-92b1-e852907ed388",
   "metadata": {},
   "source": [
    "## Test with oauth credentials"
   ]
  },
  {
   "cell_type": "code",
   "execution_count": 73,
   "id": "82dc9064-0fa8-4252-9be8-303b260c9e4f",
   "metadata": {},
   "outputs": [],
   "source": [
    "os.environ[\"GOOGLE_OAUTH_CREDENTIALS\"] = GOOGLE_OAUTH_CREDENTIALS"
   ]
  },
  {
   "cell_type": "code",
   "execution_count": 74,
   "id": "e734af9a-af8d-4e37-8018-2ab7b5550b2d",
   "metadata": {
    "tags": []
   },
   "outputs": [
    {
     "data": {
      "text/plain": [
       "'private_file'"
      ]
     },
     "execution_count": 74,
     "metadata": {},
     "output_type": "execute_result"
    }
   ],
   "source": [
    "info_sheets = sheets.get_sheet_info(SHEETS_DOCUMENT_ID)\n",
    "info_sheets['properties']['title']"
   ]
  },
  {
   "cell_type": "code",
   "execution_count": 75,
   "id": "01beafed-3b06-466c-b2ec-170cfb8289a0",
   "metadata": {
    "tags": []
   },
   "outputs": [
    {
     "data": {
      "text/plain": [
       "'private_file'"
      ]
     },
     "execution_count": 75,
     "metadata": {},
     "output_type": "execute_result"
    }
   ],
   "source": [
    "info_slides = slides.get_presentation_info(SLIDES_DOCUMENT_ID)\n",
    "info_slides['title']"
   ]
  },
  {
   "cell_type": "markdown",
   "id": "5eb018c7-5eb4-454b-935f-00656c2ac4ed",
   "metadata": {},
   "source": [
    "## Test with service account"
   ]
  },
  {
   "cell_type": "code",
   "execution_count": 76,
   "id": "6d7245b7",
   "metadata": {
    "tags": []
   },
   "outputs": [],
   "source": [
    "if os.environ.get('GOOGLE_OAUTH_CREDENTIALS') : del os.environ['GOOGLE_OAUTH_CREDENTIALS']\n",
    "os.environ[\"GOOGLE_APPLICATION_CREDENTIALS\"] = GOOGLE_APPLICATION_CREDENTIALS"
   ]
  },
  {
   "cell_type": "code",
   "execution_count": 77,
   "id": "2f1c788a-7e00-4d05-986e-b5e199f31149",
   "metadata": {},
   "outputs": [
    {
     "name": "stderr",
     "output_type": "stream",
     "text": [
      "WARNING:googleapiclient.http:Encountered 403 Forbidden with reason \"PERMISSION_DENIED\"\n"
     ]
    },
    {
     "ename": "HttpError",
     "evalue": "<HttpError 403 when requesting https://sheets.googleapis.com/v4/spreadsheets/1HNXs8kF2bkOdpi8lFeVEL1U0LByyaBX1BuzvHFNzHys?includeGridData=false&alt=json returned \"The caller does not have permission\". Details: \"The caller does not have permission\">",
     "output_type": "error",
     "traceback": [
      "\u001b[1;31m---------------------------------------------------------------------------\u001b[0m",
      "\u001b[1;31mHttpError\u001b[0m                                 Traceback (most recent call last)",
      "Cell \u001b[1;32mIn [77], line 1\u001b[0m\n\u001b[1;32m----> 1\u001b[0m info_sheets \u001b[38;5;241m=\u001b[39m \u001b[43msheets\u001b[49m\u001b[38;5;241;43m.\u001b[39;49m\u001b[43mget_sheet_info\u001b[49m\u001b[43m(\u001b[49m\u001b[43mSHEETS_DOCUMENT_ID\u001b[49m\u001b[43m)\u001b[49m\n\u001b[0;32m      2\u001b[0m info_sheets[\u001b[38;5;124m'\u001b[39m\u001b[38;5;124mproperties\u001b[39m\u001b[38;5;124m'\u001b[39m][\u001b[38;5;124m'\u001b[39m\u001b[38;5;124mtitle\u001b[39m\u001b[38;5;124m'\u001b[39m]\n",
      "File \u001b[1;32m~\\Documents\\GitHub\\google-api-support\\docs\\examples\\../../GoogleApiSupport\\sheets.py:16\u001b[0m, in \u001b[0;36mget_sheet_info\u001b[1;34m(sheetId, includeGridData)\u001b[0m\n\u001b[0;32m      7\u001b[0m \u001b[38;5;124;03m\"\"\"Returns an spreadsheet info object\u001b[39;00m\n\u001b[0;32m      8\u001b[0m \n\u001b[0;32m      9\u001b[0m \u001b[38;5;124;03mArgs:\u001b[39;00m\n\u001b[1;32m   (...)\u001b[0m\n\u001b[0;32m     13\u001b[0m \u001b[38;5;124;03m    dict: Object with a lot of sheet information such title, url, colors, alignment and much more.\u001b[39;00m\n\u001b[0;32m     14\u001b[0m \u001b[38;5;124;03m\"\"\"\u001b[39;00m\n\u001b[0;32m     15\u001b[0m service \u001b[38;5;241m=\u001b[39m auth\u001b[38;5;241m.\u001b[39mget_service(\u001b[38;5;124m\"\u001b[39m\u001b[38;5;124msheets\u001b[39m\u001b[38;5;124m\"\u001b[39m)\n\u001b[1;32m---> 16\u001b[0m response \u001b[38;5;241m=\u001b[39m \u001b[43mservice\u001b[49m\u001b[38;5;241;43m.\u001b[39;49m\u001b[43mspreadsheets\u001b[49m\u001b[43m(\u001b[49m\u001b[43m)\u001b[49m\u001b[38;5;241;43m.\u001b[39;49m\u001b[43mget\u001b[49m\u001b[43m(\u001b[49m\u001b[43mspreadsheetId\u001b[49m\u001b[38;5;241;43m=\u001b[39;49m\u001b[43msheetId\u001b[49m\u001b[43m,\u001b[49m\u001b[43m \u001b[49m\u001b[43mincludeGridData\u001b[49m\u001b[38;5;241;43m=\u001b[39;49m\u001b[43mincludeGridData\u001b[49m\u001b[43m)\u001b[49m\u001b[38;5;241;43m.\u001b[39;49m\u001b[43mexecute\u001b[49m\u001b[43m(\u001b[49m\u001b[43m)\u001b[49m\n\u001b[0;32m     17\u001b[0m \u001b[38;5;28;01mreturn\u001b[39;00m response\n",
      "File \u001b[1;32m~\\Documents\\GitHub\\google-api-support\\venv\\lib\\site-packages\\googleapiclient\\_helpers.py:130\u001b[0m, in \u001b[0;36mpositional.<locals>.positional_decorator.<locals>.positional_wrapper\u001b[1;34m(*args, **kwargs)\u001b[0m\n\u001b[0;32m    128\u001b[0m     \u001b[38;5;28;01melif\u001b[39;00m positional_parameters_enforcement \u001b[38;5;241m==\u001b[39m POSITIONAL_WARNING:\n\u001b[0;32m    129\u001b[0m         logger\u001b[38;5;241m.\u001b[39mwarning(message)\n\u001b[1;32m--> 130\u001b[0m \u001b[38;5;28;01mreturn\u001b[39;00m wrapped(\u001b[38;5;241m*\u001b[39margs, \u001b[38;5;241m*\u001b[39m\u001b[38;5;241m*\u001b[39mkwargs)\n",
      "File \u001b[1;32m~\\Documents\\GitHub\\google-api-support\\venv\\lib\\site-packages\\googleapiclient\\http.py:938\u001b[0m, in \u001b[0;36mHttpRequest.execute\u001b[1;34m(self, http, num_retries)\u001b[0m\n\u001b[0;32m    936\u001b[0m     callback(resp)\n\u001b[0;32m    937\u001b[0m \u001b[38;5;28;01mif\u001b[39;00m resp\u001b[38;5;241m.\u001b[39mstatus \u001b[38;5;241m>\u001b[39m\u001b[38;5;241m=\u001b[39m \u001b[38;5;241m300\u001b[39m:\n\u001b[1;32m--> 938\u001b[0m     \u001b[38;5;28;01mraise\u001b[39;00m HttpError(resp, content, uri\u001b[38;5;241m=\u001b[39m\u001b[38;5;28mself\u001b[39m\u001b[38;5;241m.\u001b[39muri)\n\u001b[0;32m    939\u001b[0m \u001b[38;5;28;01mreturn\u001b[39;00m \u001b[38;5;28mself\u001b[39m\u001b[38;5;241m.\u001b[39mpostproc(resp, content)\n",
      "\u001b[1;31mHttpError\u001b[0m: <HttpError 403 when requesting https://sheets.googleapis.com/v4/spreadsheets/1HNXs8kF2bkOdpi8lFeVEL1U0LByyaBX1BuzvHFNzHys?includeGridData=false&alt=json returned \"The caller does not have permission\". Details: \"The caller does not have permission\">"
     ]
    }
   ],
   "source": [
    "info_sheets = sheets.get_sheet_info(SHEETS_DOCUMENT_ID)\n",
    "info_sheets['properties']['title']"
   ]
  },
  {
   "cell_type": "code",
   "execution_count": 78,
   "id": "eaec0aa0-8cbd-45d9-abe1-d3f2dff56900",
   "metadata": {},
   "outputs": [
    {
     "data": {
      "text/plain": [
       "'private_file'"
      ]
     },
     "execution_count": 78,
     "metadata": {},
     "output_type": "execute_result"
    }
   ],
   "source": [
    "info_slides = slides.get_presentation_info(SLIDES_DOCUMENT_ID)\n",
    "info_slides['title']"
   ]
  },
  {
   "cell_type": "markdown",
   "id": "984c02b1-cc22-4af1-8212-6b3e184a4e79",
   "metadata": {},
   "source": [
    "## Test with service account path and oauth"
   ]
  },
  {
   "cell_type": "code",
   "execution_count": 79,
   "id": "1d605906-de44-4c6a-970f-7b07028e10ee",
   "metadata": {},
   "outputs": [],
   "source": [
    "os.environ[\"GOOGLE_OAUTH_CREDENTIALS\"] = GOOGLE_OAUTH_CREDENTIALS\n",
    "os.environ[\"GOOGLE_APPLICATION_CREDENTIALS\"] = GOOGLE_APPLICATION_CREDENTIALS"
   ]
  },
  {
   "cell_type": "code",
   "execution_count": 80,
   "id": "02bb7748-68ef-43f8-905d-f29fd666173d",
   "metadata": {},
   "outputs": [
    {
     "name": "stderr",
     "output_type": "stream",
     "text": [
      "WARNING:googleapiclient.http:Encountered 403 Forbidden with reason \"PERMISSION_DENIED\"\n"
     ]
    },
    {
     "ename": "HttpError",
     "evalue": "<HttpError 403 when requesting https://sheets.googleapis.com/v4/spreadsheets/1HNXs8kF2bkOdpi8lFeVEL1U0LByyaBX1BuzvHFNzHys?includeGridData=false&alt=json returned \"The caller does not have permission\". Details: \"The caller does not have permission\">",
     "output_type": "error",
     "traceback": [
      "\u001b[1;31m---------------------------------------------------------------------------\u001b[0m",
      "\u001b[1;31mHttpError\u001b[0m                                 Traceback (most recent call last)",
      "Cell \u001b[1;32mIn [80], line 1\u001b[0m\n\u001b[1;32m----> 1\u001b[0m info_sheets \u001b[38;5;241m=\u001b[39m \u001b[43msheets\u001b[49m\u001b[38;5;241;43m.\u001b[39;49m\u001b[43mget_sheet_info\u001b[49m\u001b[43m(\u001b[49m\u001b[43mSHEETS_DOCUMENT_ID\u001b[49m\u001b[43m)\u001b[49m\n\u001b[0;32m      2\u001b[0m info_sheets[\u001b[38;5;124m'\u001b[39m\u001b[38;5;124mproperties\u001b[39m\u001b[38;5;124m'\u001b[39m][\u001b[38;5;124m'\u001b[39m\u001b[38;5;124mtitle\u001b[39m\u001b[38;5;124m'\u001b[39m]\n",
      "File \u001b[1;32m~\\Documents\\GitHub\\google-api-support\\docs\\examples\\../../GoogleApiSupport\\sheets.py:16\u001b[0m, in \u001b[0;36mget_sheet_info\u001b[1;34m(sheetId, includeGridData)\u001b[0m\n\u001b[0;32m      7\u001b[0m \u001b[38;5;124;03m\"\"\"Returns an spreadsheet info object\u001b[39;00m\n\u001b[0;32m      8\u001b[0m \n\u001b[0;32m      9\u001b[0m \u001b[38;5;124;03mArgs:\u001b[39;00m\n\u001b[1;32m   (...)\u001b[0m\n\u001b[0;32m     13\u001b[0m \u001b[38;5;124;03m    dict: Object with a lot of sheet information such title, url, colors, alignment and much more.\u001b[39;00m\n\u001b[0;32m     14\u001b[0m \u001b[38;5;124;03m\"\"\"\u001b[39;00m\n\u001b[0;32m     15\u001b[0m service \u001b[38;5;241m=\u001b[39m auth\u001b[38;5;241m.\u001b[39mget_service(\u001b[38;5;124m\"\u001b[39m\u001b[38;5;124msheets\u001b[39m\u001b[38;5;124m\"\u001b[39m)\n\u001b[1;32m---> 16\u001b[0m response \u001b[38;5;241m=\u001b[39m \u001b[43mservice\u001b[49m\u001b[38;5;241;43m.\u001b[39;49m\u001b[43mspreadsheets\u001b[49m\u001b[43m(\u001b[49m\u001b[43m)\u001b[49m\u001b[38;5;241;43m.\u001b[39;49m\u001b[43mget\u001b[49m\u001b[43m(\u001b[49m\u001b[43mspreadsheetId\u001b[49m\u001b[38;5;241;43m=\u001b[39;49m\u001b[43msheetId\u001b[49m\u001b[43m,\u001b[49m\u001b[43m \u001b[49m\u001b[43mincludeGridData\u001b[49m\u001b[38;5;241;43m=\u001b[39;49m\u001b[43mincludeGridData\u001b[49m\u001b[43m)\u001b[49m\u001b[38;5;241;43m.\u001b[39;49m\u001b[43mexecute\u001b[49m\u001b[43m(\u001b[49m\u001b[43m)\u001b[49m\n\u001b[0;32m     17\u001b[0m \u001b[38;5;28;01mreturn\u001b[39;00m response\n",
      "File \u001b[1;32m~\\Documents\\GitHub\\google-api-support\\venv\\lib\\site-packages\\googleapiclient\\_helpers.py:130\u001b[0m, in \u001b[0;36mpositional.<locals>.positional_decorator.<locals>.positional_wrapper\u001b[1;34m(*args, **kwargs)\u001b[0m\n\u001b[0;32m    128\u001b[0m     \u001b[38;5;28;01melif\u001b[39;00m positional_parameters_enforcement \u001b[38;5;241m==\u001b[39m POSITIONAL_WARNING:\n\u001b[0;32m    129\u001b[0m         logger\u001b[38;5;241m.\u001b[39mwarning(message)\n\u001b[1;32m--> 130\u001b[0m \u001b[38;5;28;01mreturn\u001b[39;00m wrapped(\u001b[38;5;241m*\u001b[39margs, \u001b[38;5;241m*\u001b[39m\u001b[38;5;241m*\u001b[39mkwargs)\n",
      "File \u001b[1;32m~\\Documents\\GitHub\\google-api-support\\venv\\lib\\site-packages\\googleapiclient\\http.py:938\u001b[0m, in \u001b[0;36mHttpRequest.execute\u001b[1;34m(self, http, num_retries)\u001b[0m\n\u001b[0;32m    936\u001b[0m     callback(resp)\n\u001b[0;32m    937\u001b[0m \u001b[38;5;28;01mif\u001b[39;00m resp\u001b[38;5;241m.\u001b[39mstatus \u001b[38;5;241m>\u001b[39m\u001b[38;5;241m=\u001b[39m \u001b[38;5;241m300\u001b[39m:\n\u001b[1;32m--> 938\u001b[0m     \u001b[38;5;28;01mraise\u001b[39;00m HttpError(resp, content, uri\u001b[38;5;241m=\u001b[39m\u001b[38;5;28mself\u001b[39m\u001b[38;5;241m.\u001b[39muri)\n\u001b[0;32m    939\u001b[0m \u001b[38;5;28;01mreturn\u001b[39;00m \u001b[38;5;28mself\u001b[39m\u001b[38;5;241m.\u001b[39mpostproc(resp, content)\n",
      "\u001b[1;31mHttpError\u001b[0m: <HttpError 403 when requesting https://sheets.googleapis.com/v4/spreadsheets/1HNXs8kF2bkOdpi8lFeVEL1U0LByyaBX1BuzvHFNzHys?includeGridData=false&alt=json returned \"The caller does not have permission\". Details: \"The caller does not have permission\">"
     ]
    }
   ],
   "source": [
    "info_sheets = sheets.get_sheet_info(SHEETS_DOCUMENT_ID)\n",
    "info_sheets['properties']['title']"
   ]
  },
  {
   "cell_type": "code",
   "execution_count": 81,
   "id": "3952ec07-9784-4c45-aa45-e9651947314d",
   "metadata": {},
   "outputs": [
    {
     "data": {
      "text/plain": [
       "'private_file'"
      ]
     },
     "execution_count": 81,
     "metadata": {},
     "output_type": "execute_result"
    }
   ],
   "source": [
    "info_slides = slides.get_presentation_info(SLIDES_DOCUMENT_ID)\n",
    "info_slides['title']"
   ]
  },
  {
   "cell_type": "code",
   "execution_count": null,
   "id": "7a830c10-e039-4622-946d-340052b46bad",
   "metadata": {},
   "outputs": [],
   "source": []
  },
  {
   "cell_type": "code",
   "execution_count": null,
   "id": "2bf1f244-389c-472a-8574-2eb24dd5f2fb",
   "metadata": {},
   "outputs": [],
   "source": []
  }
 ],
 "metadata": {
  "kernelspec": {
   "display_name": "Python 3 (ipykernel)",
   "language": "python",
   "name": "python3"
  },
  "language_info": {
   "codemirror_mode": {
    "name": "ipython",
    "version": 3
   },
   "file_extension": ".py",
   "mimetype": "text/x-python",
   "name": "python",
   "nbconvert_exporter": "python",
   "pygments_lexer": "ipython3",
   "version": "3.10.6"
  },
  "vscode": {
   "interpreter": {
    "hash": "19a6a4521daa35fdf9e5657c5a5b29f4cb77eeb7b76815a45ee7f22976e7e04f"
   }
  }
 },
 "nbformat": 4,
 "nbformat_minor": 5
}
