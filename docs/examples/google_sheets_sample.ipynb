{
 "cells": [
  {
   "cell_type": "markdown",
   "metadata": {},
   "source": [
    "# In this notebook.\n",
    "\n",
    "* How to share a sheet with our Google Service Account.\n",
    "* How to retrieve all **sheet names** from a Google Sheets File.\n",
    "* How to read a Google Sheets Page into a pandas.dataframe.\n",
    "    * You can have a configs file which can be easily updated by other non-technical teams and download this values to change the behavoir of a given process. \n",
    "* How to upload a pandas.dataframe into Google Sheets File. \n",
    "    * You can share to an external team some flavoured and updated data without giving them any access to your system.\n",
    "    "
   ]
  },
  {
   "cell_type": "markdown",
   "metadata": {},
   "source": [
    "Import the functions."
   ]
  },
  {
   "cell_type": "code",
   "execution_count": 1,
   "metadata": {},
   "outputs": [],
   "source": [
    "import GoogleApiSupport.sheets as sheets"
   ]
  },
  {
   "cell_type": "markdown",
   "metadata": {},
   "source": [
    "### Share the sheet or the folder containing the sheet we want to edit with the \"user id\" we copied before.\n",
    "\n",
    "![Create a developers project](docs/img/share_sheet.png)"
   ]
  },
  {
   "cell_type": "markdown",
   "metadata": {},
   "source": [
    "### Copy the file id from the url\n",
    "\n",
    "![Create a developers project](docs/img/sheet_1_e.png)"
   ]
  },
  {
   "cell_type": "markdown",
   "metadata": {},
   "source": [
    "You can see in GoogleApiSupport.drive all sort of functions to enable you find programatically a file (Search by name inside (or not) a folder)"
   ]
  },
  {
   "cell_type": "markdown",
   "metadata": {},
   "source": [
    "### And use it to retrieve spreadsheet info"
   ]
  },
  {
   "cell_type": "code",
   "execution_count": 2,
   "metadata": {},
   "outputs": [
    {
     "data": {
      "text/plain": [
       "{'spreadsheetId': '19Q8y1uR8SD27GiVN200e87ufoMklH2KBh2NfyQTEt9Q',\n",
       " 'properties': {'title': 'test_upload',\n",
       "  'locale': 'ca_ES',\n",
       "  'autoRecalc': 'ON_CHANGE',\n",
       "  'timeZone': 'Europe/Paris',\n",
       "  'defaultFormat': {'backgroundColor': {'red': 1, 'green': 1, 'blue': 1},\n",
       "   'padding': {'top': 2, 'right': 3, 'bottom': 2, 'left': 3},\n",
       "   'verticalAlignment': 'BOTTOM',\n",
       "   'wrapStrategy': 'OVERFLOW_CELL',\n",
       "   'textFormat': {'foregroundColor': {},\n",
       "    'fontFamily': 'arial,sans,sans-serif',\n",
       "    'fontSize': 10,\n",
       "    'bold': False,\n",
       "    'italic': False,\n",
       "    'strikethrough': False,\n",
       "    'underline': False,\n",
       "    'foregroundColorStyle': {'rgbColor': {}}},\n",
       "   'backgroundColorStyle': {'rgbColor': {'red': 1, 'green': 1, 'blue': 1}}},\n",
       "  'spreadsheetTheme': {'primaryFontFamily': 'Arial',\n",
       "   'themeColors': [{'colorType': 'TEXT', 'color': {'rgbColor': {}}},\n",
       "    {'colorType': 'BACKGROUND',\n",
       "     'color': {'rgbColor': {'red': 1, 'green': 1, 'blue': 1}}},\n",
       "    {'colorType': 'ACCENT1',\n",
       "     'color': {'rgbColor': {'red': 0.25882354,\n",
       "       'green': 0.52156866,\n",
       "       'blue': 0.95686275}}},\n",
       "    {'colorType': 'ACCENT2',\n",
       "     'color': {'rgbColor': {'red': 0.91764706,\n",
       "       'green': 0.2627451,\n",
       "       'blue': 0.20784314}}},\n",
       "    {'colorType': 'ACCENT3',\n",
       "     'color': {'rgbColor': {'red': 0.9843137,\n",
       "       'green': 0.7372549,\n",
       "       'blue': 0.015686275}}},\n",
       "    {'colorType': 'ACCENT4',\n",
       "     'color': {'rgbColor': {'red': 0.20392157,\n",
       "       'green': 0.65882355,\n",
       "       'blue': 0.3254902}}},\n",
       "    {'colorType': 'ACCENT5',\n",
       "     'color': {'rgbColor': {'red': 1,\n",
       "       'green': 0.42745098,\n",
       "       'blue': 0.003921569}}},\n",
       "    {'colorType': 'ACCENT6',\n",
       "     'color': {'rgbColor': {'red': 0.27450982,\n",
       "       'green': 0.7411765,\n",
       "       'blue': 0.7764706}}},\n",
       "    {'colorType': 'LINK',\n",
       "     'color': {'rgbColor': {'red': 0.06666667,\n",
       "       'green': 0.33333334,\n",
       "       'blue': 0.8}}}]}},\n",
       " 'sheets': [{'properties': {'sheetId': 0,\n",
       "    'title': 'Full 1',\n",
       "    'index': 0,\n",
       "    'sheetType': 'GRID',\n",
       "    'gridProperties': {'rowCount': 1000, 'columnCount': 26}}},\n",
       "  {'properties': {'sheetId': 1775410018,\n",
       "    'title': 'chart',\n",
       "    'index': 1,\n",
       "    'sheetType': 'GRID',\n",
       "    'gridProperties': {'rowCount': 1000, 'columnCount': 26}},\n",
       "   'charts': [{'chartId': 27240805,\n",
       "     'spec': {'basicChart': {'chartType': 'COLUMN',\n",
       "       'axis': [{'position': 'BOTTOM_AXIS', 'viewWindowOptions': {}}]},\n",
       "      'hiddenDimensionStrategy': 'SKIP_HIDDEN_ROWS_AND_COLUMNS',\n",
       "      'fontName': 'Roboto'},\n",
       "     'position': {'overlayPosition': {'anchorCell': {'sheetId': 1775410018,\n",
       "        'rowIndex': 1,\n",
       "        'columnIndex': 1},\n",
       "       'offsetXPixels': 70,\n",
       "       'offsetYPixels': 7,\n",
       "       'widthPixels': 600,\n",
       "       'heightPixels': 371}}}]},\n",
       "  {'properties': {'sheetId': 1584803490,\n",
       "    'title': 'hoja 3',\n",
       "    'index': 2,\n",
       "    'sheetType': 'GRID',\n",
       "    'gridProperties': {'rowCount': 1000, 'columnCount': 26}}}],\n",
       " 'spreadsheetUrl': 'https://docs.google.com/spreadsheets/d/19Q8y1uR8SD27GiVN200e87ufoMklH2KBh2NfyQTEt9Q/edit'}"
      ]
     },
     "execution_count": 2,
     "metadata": {},
     "output_type": "execute_result"
    }
   ],
   "source": [
    "sheets.get_sheet_info('19Q8y1uR8SD27GiVN200e87ufoMklH2KBh2NfyQTEt9Q')"
   ]
  },
  {
   "cell_type": "markdown",
   "metadata": {},
   "source": [
    "### There's also an specific function for sheet names"
   ]
  },
  {
   "cell_type": "code",
   "execution_count": 3,
   "metadata": {},
   "outputs": [
    {
     "data": {
      "text/plain": [
       "['Full 1', 'chart', 'hoja 3']"
      ]
     },
     "execution_count": 3,
     "metadata": {},
     "output_type": "execute_result"
    }
   ],
   "source": [
    "file_id = '19Q8y1uR8SD27GiVN200e87ufoMklH2KBh2NfyQTEt9Q'\n",
    "sheet_names_list = sheets.get_sheet_names(file_id)\n",
    "sheet_names_list"
   ]
  },
  {
   "cell_type": "markdown",
   "metadata": {},
   "source": [
    "### Now we can use the name to read the file"
   ]
  },
  {
   "cell_type": "code",
   "execution_count": 4,
   "metadata": {
    "scrolled": true
   },
   "outputs": [
    {
     "data": {
      "text/html": [
       "<div>\n",
       "<style scoped>\n",
       "    .dataframe tbody tr th:only-of-type {\n",
       "        vertical-align: middle;\n",
       "    }\n",
       "\n",
       "    .dataframe tbody tr th {\n",
       "        vertical-align: top;\n",
       "    }\n",
       "\n",
       "    .dataframe thead th {\n",
       "        text-align: right;\n",
       "    }\n",
       "</style>\n",
       "<table border=\"1\" class=\"dataframe\">\n",
       "  <thead>\n",
       "    <tr style=\"text-align: right;\">\n",
       "      <th></th>\n",
       "      <th>a</th>\n",
       "      <th>b</th>\n",
       "      <th>c</th>\n",
       "    </tr>\n",
       "  </thead>\n",
       "  <tbody>\n",
       "    <tr>\n",
       "      <th>0</th>\n",
       "      <td>1</td>\n",
       "      <td>2</td>\n",
       "      <td>3</td>\n",
       "    </tr>\n",
       "    <tr>\n",
       "      <th>1</th>\n",
       "      <td>a</td>\n",
       "      <td>b</td>\n",
       "      <td>None</td>\n",
       "    </tr>\n",
       "  </tbody>\n",
       "</table>\n",
       "</div>"
      ],
      "text/plain": [
       "   a  b     c\n",
       "0  1  2     3\n",
       "1  a  b  None"
      ]
     },
     "execution_count": 4,
     "metadata": {},
     "output_type": "execute_result"
    }
   ],
   "source": [
    "df_from_drive = sheets.sheet_to_pandas(\n",
    "    file_id, # Id of the spreadsheet\n",
    "    'Full 1' # Name of the sheet\n",
    ")\n",
    "df_from_drive.head()"
   ]
  },
  {
   "cell_type": "markdown",
   "metadata": {},
   "source": [
    "### Finally we can upload a custom df"
   ]
  },
  {
   "cell_type": "code",
   "execution_count": 5,
   "metadata": {},
   "outputs": [
    {
     "data": {
      "text/html": [
       "<div>\n",
       "<style scoped>\n",
       "    .dataframe tbody tr th:only-of-type {\n",
       "        vertical-align: middle;\n",
       "    }\n",
       "\n",
       "    .dataframe tbody tr th {\n",
       "        vertical-align: top;\n",
       "    }\n",
       "\n",
       "    .dataframe thead th {\n",
       "        text-align: right;\n",
       "    }\n",
       "</style>\n",
       "<table border=\"1\" class=\"dataframe\">\n",
       "  <thead>\n",
       "    <tr style=\"text-align: right;\">\n",
       "      <th></th>\n",
       "      <th>r</th>\n",
       "      <th>o</th>\n",
       "      <th>c</th>\n",
       "    </tr>\n",
       "  </thead>\n",
       "  <tbody>\n",
       "    <tr>\n",
       "      <th>0</th>\n",
       "      <td>3</td>\n",
       "      <td>9</td>\n",
       "      <td>9</td>\n",
       "    </tr>\n",
       "    <tr>\n",
       "      <th>1</th>\n",
       "      <td>9</td>\n",
       "      <td>9</td>\n",
       "      <td>4</td>\n",
       "    </tr>\n",
       "    <tr>\n",
       "      <th>2</th>\n",
       "      <td>3</td>\n",
       "      <td>4</td>\n",
       "      <td>5</td>\n",
       "    </tr>\n",
       "  </tbody>\n",
       "</table>\n",
       "</div>"
      ],
      "text/plain": [
       "   r  o  c\n",
       "0  3  9  9\n",
       "1  9  9  4\n",
       "2  3  4  5"
      ]
     },
     "execution_count": 5,
     "metadata": {},
     "output_type": "execute_result"
    }
   ],
   "source": [
    "import pandas as pd\n",
    "\n",
    "dat = pd.DataFrame([[3,9,9],[9,9,4],[3,4,5]], columns = ['r','o','c'])\n",
    "dat"
   ]
  },
  {
   "cell_type": "code",
   "execution_count": 6,
   "metadata": {},
   "outputs": [],
   "source": [
    "sheets.pandas_to_sheet(file_id, 'hoja 3', dat);"
   ]
  },
  {
   "cell_type": "markdown",
   "metadata": {},
   "source": [
    "### And that's the result\n",
    "\n",
    "![Create a developers project](docs/img/sheet_2.png)"
   ]
  },
  {
   "cell_type": "code",
   "execution_count": 30,
   "metadata": {},
   "outputs": [],
   "source": [
    "sheets.clear_sheet(file_id, 'hoja 3')"
   ]
  },
  {
   "cell_type": "code",
   "execution_count": null,
   "metadata": {},
   "outputs": [],
   "source": []
  },
  {
   "cell_type": "code",
   "execution_count": null,
   "metadata": {},
   "outputs": [],
   "source": []
  }
 ],
 "metadata": {
  "anaconda-cloud": {},
  "kernelspec": {
   "display_name": "Python 3 (ipykernel)",
   "language": "python",
   "name": "python3"
  },
  "language_info": {
   "codemirror_mode": {
    "name": "ipython",
    "version": 3
   },
   "file_extension": ".py",
   "mimetype": "text/x-python",
   "name": "python",
   "nbconvert_exporter": "python",
   "pygments_lexer": "ipython3",
   "version": "3.10.6"
  },
  "vscode": {
   "interpreter": {
    "hash": "19a6a4521daa35fdf9e5657c5a5b29f4cb77eeb7b76815a45ee7f22976e7e04f"
   }
  }
 },
 "nbformat": 4,
 "nbformat_minor": 4
}
