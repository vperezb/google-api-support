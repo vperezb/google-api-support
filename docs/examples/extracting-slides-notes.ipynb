{
 "cells": [
  {
   "cell_type": "markdown",
   "id": "fe4aa359-b52f-479f-b54c-22368e2ac2e2",
   "metadata": {},
   "source": [
    "# Get a single slide (page) notes or a dict with all the notes in a presentation"
   ]
  },
  {
   "cell_type": "code",
   "execution_count": 1,
   "id": "2c06de7c-8902-405d-86ef-0136fb449ca6",
   "metadata": {},
   "outputs": [],
   "source": [
    "from GoogleApiSupport import slides"
   ]
  },
  {
   "cell_type": "code",
   "execution_count": 2,
   "id": "8b44cf31-0e92-496f-8555-3bef81bbaab7",
   "metadata": {},
   "outputs": [],
   "source": [
    "d = slides.get_presentation_info(\"1EE3sFQL2cwHl1EmALnmpczlt-iC_k_H4iGUnl62wf-I\")"
   ]
  },
  {
   "cell_type": "code",
   "execution_count": 6,
   "id": "16c1af67-9324-497c-8b74-9a10e37a09f0",
   "metadata": {},
   "outputs": [
    {
     "data": {
      "text/plain": [
       "'First line\\nSecond one\\nthird\\n'"
      ]
     },
     "execution_count": 6,
     "metadata": {},
     "output_type": "execute_result"
    }
   ],
   "source": [
    "slides.get_slide_notes(slides.get_page(\"1EE3sFQL2cwHl1EmALnmpczlt-iC_k_H4iGUnl62wf-I\", \"g63f42a8b09237dd6_0\"))"
   ]
  },
  {
   "cell_type": "code",
   "execution_count": 5,
   "id": "e1c82241-93ff-46c5-bb38-dbdad653a367",
   "metadata": {},
   "outputs": [
    {
     "data": {
      "text/plain": [
       "{'g63f42a8b09237dd6_0': 'First line\\nSecond one\\nthird\\n',\n",
       " 'g1f810b3d1ab_0_1': 'x\\n',\n",
       " 'g1f810b3d1ab_0_6': 'y\\n'}"
      ]
     },
     "execution_count": 5,
     "metadata": {},
     "output_type": "execute_result"
    }
   ],
   "source": [
    "slides.get_presentation_notes(\"1EE3sFQL2cwHl1EmALnmpczlt-iC_k_H4iGUnl62wf-I\")"
   ]
  }
 ],
 "metadata": {
  "kernelspec": {
   "display_name": "Python 3 (ipykernel)",
   "language": "python",
   "name": "python3"
  },
  "language_info": {
   "codemirror_mode": {
    "name": "ipython",
    "version": 3
   },
   "file_extension": ".py",
   "mimetype": "text/x-python",
   "name": "python",
   "nbconvert_exporter": "python",
   "pygments_lexer": "ipython3",
   "version": "3.10.5"
  }
 },
 "nbformat": 4,
 "nbformat_minor": 5
}
