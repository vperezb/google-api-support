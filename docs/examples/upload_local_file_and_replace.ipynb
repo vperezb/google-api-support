{
 "cells": [
  {
   "cell_type": "markdown",
   "metadata": {},
   "source": [
    "# Copy file and transfer its permissions\n",
    "\n",
    "This is a temporary workaround for the [issue #43](https://github.com/vperezb/google-api-support/issues/43)."
   ]
  },
  {
   "cell_type": "code",
   "execution_count": 16,
   "metadata": {},
   "outputs": [],
   "source": [
    "#import slides, drive\n",
    "# Doing this to import the changed version of the library\n",
    "import sys\n",
    "sys.path.append('../../GoogleApiSupport')\n",
    "import slides, drive"
   ]
  },
  {
   "cell_type": "code",
   "execution_count": null,
   "metadata": {},
   "outputs": [],
   "source": []
  },
  {
   "cell_type": "code",
   "execution_count": 2,
   "metadata": {},
   "outputs": [],
   "source": [
    "# Credentials\n",
    "import os\n",
    "ROOT_DIR=os.getcwd()\n",
    "\n",
    "os.environ['GOOGLE_APPLICATION_CREDENTIALS'] = os.path.join(os.path.expanduser( '~' ), \".credentials\", \"service_credentials.json\")"
   ]
  },
  {
   "cell_type": "code",
   "execution_count": 3,
   "metadata": {},
   "outputs": [],
   "source": [
    "PRESENTATION_ID = '1p0ouOWDZxX7QemDeNk976KiDp6ooWYEc9DhMcuOpY7U'"
   ]
  },
  {
   "cell_type": "code",
   "execution_count": 6,
   "metadata": {
    "scrolled": true
   },
   "outputs": [
    {
     "name": "stdout",
     "output_type": "stream",
     "text": [
      "Copying file 1p0ouOWDZxX7QemDeNk976KiDp6ooWYEc9DhMcuOpY7U with name Copy_test_1\n"
     ]
    },
    {
     "name": "stderr",
     "output_type": "stream",
     "text": [
      "WARNING:googleapiclient.http:Encountered 403 Forbidden with reason \"forbidden\"\n"
     ]
    },
    {
     "name": "stdout",
     "output_type": "stream",
     "text": [
      "An error occurred: <HttpError 403 when requesting https://www.googleapis.com/drive/v3/files/13P1EhKMgxVqMc7ipRXRhdfv6fJzy4MIR3Ydi_twn2CU/permissions?supportsAllDrives=true&transferOwnership=false&sendNotificationEmail=true&alt=json returned \"The sendNotificationEmail parameter is only applicable for permissions of type 'user' or 'group', and must not be disabled for ownership transfers.\". Details: \"[{'message': \"The sendNotificationEmail parameter is only applicable for permissions of type 'user' or 'group', and must not be disabled for ownership transfers.\", 'domain': 'global', 'reason': 'forbidden', 'location': 'sendNotificationEmail', 'locationType': 'parameter'}]\">\n",
      "Successfully transferred permissions from file 1p0ouOWDZxX7QemDeNk976KiDp6ooWYEc9DhMcuOpY7U to file 13P1EhKMgxVqMc7ipRXRhdfv6fJzy4MIR3Ydi_twn2CU\n",
      "Output file id with copying permissions: 13P1EhKMgxVqMc7ipRXRhdfv6fJzy4MIR3Ydi_twn2CU\n",
      "Output file id: 13P1EhKMgxVqMc7ipRXRhdfv6fJzy4MIR3Ydi_twn2CU\n"
     ]
    }
   ],
   "source": [
    "output_file = drive.copy_file(file_from_id=PRESENTATION_ID, new_file_name='Copy_test_1', \n",
    "                                   supports_all_drives=True, transfer_permissions=True, send_notification_email = False)\n",
    "print('Output file id with copying permissions:', output_file)\n",
    "print ('Output file id:', output_file)"
   ]
  },
  {
   "cell_type": "code",
   "execution_count": 7,
   "metadata": {},
   "outputs": [
    {
     "name": "stdout",
     "output_type": "stream",
     "text": [
      "Moving file id 13P1EhKMgxVqMc7ipRXRhdfv6fJzy4MIR3Ydi_twn2CU to folder with id 1LAtpyvJfDn2LktQT78i4mfNaZbglI4pd\n"
     ]
    },
    {
     "data": {
      "text/plain": [
       "{'id': '13P1EhKMgxVqMc7ipRXRhdfv6fJzy4MIR3Ydi_twn2CU',\n",
       " 'parents': ['1LAtpyvJfDn2LktQT78i4mfNaZbglI4pd']}"
      ]
     },
     "execution_count": 7,
     "metadata": {},
     "output_type": "execute_result"
    }
   ],
   "source": [
    "folder_id = '1LAtpyvJfDn2LktQT78i4mfNaZbglI4pd'\n",
    "drive.move_file(output_file, folder_id)"
   ]
  },
  {
   "cell_type": "code",
   "execution_count": null,
   "metadata": {},
   "outputs": [],
   "source": [
    "upload_response = drive.upload_image('graph', r'C:\\Users\\victo\\Downloads\\onions.png', folder_id)\n",
    "print(upload_response)"
   ]
  },
  {
   "cell_type": "code",
   "execution_count": null,
   "metadata": {},
   "outputs": [],
   "source": [
    "slides.replace_shape_with_image(upload_response['image_url'], output_file, 'graph_1')"
   ]
  },
  {
   "cell_type": "code",
   "execution_count": null,
   "metadata": {},
   "outputs": [],
   "source": [
    "drive.delete_file(file_id=upload_response['file_id'])"
   ]
  },
  {
   "cell_type": "markdown",
   "metadata": {},
   "source": [
    "## Testing new functions "
   ]
  },
  {
   "cell_type": "code",
   "execution_count": null,
   "metadata": {},
   "outputs": [],
   "source": []
  },
  {
   "cell_type": "code",
   "execution_count": 8,
   "metadata": {},
   "outputs": [
    {
     "name": "stderr",
     "output_type": "stream",
     "text": [
      "WARNING:googleapiclient.discovery:media_mime_type argument not specified: trying to auto-detect for https://placehold.co/600x400\n"
     ]
    },
    {
     "ename": "UnknownFileType",
     "evalue": "https://placehold.co/600x400",
     "output_type": "error",
     "traceback": [
      "\u001b[1;31m---------------------------------------------------------------------------\u001b[0m",
      "\u001b[1;31mUnknownFileType\u001b[0m                           Traceback (most recent call last)",
      "Cell \u001b[1;32mIn [8], line 1\u001b[0m\n\u001b[1;32m----> 1\u001b[0m \u001b[43mslides\u001b[49m\u001b[38;5;241;43m.\u001b[39;49m\u001b[43mreplace_shape_with_image\u001b[49m\u001b[43m(\u001b[49m\u001b[38;5;124;43m'\u001b[39;49m\u001b[38;5;124;43mhttps://placehold.co/600x400\u001b[39;49m\u001b[38;5;124;43m'\u001b[39;49m\u001b[43m,\u001b[49m\u001b[43m \u001b[49m\u001b[43moutput_file\u001b[49m\u001b[43m,\u001b[49m\u001b[43m \u001b[49m\u001b[38;5;124;43m'\u001b[39;49m\u001b[38;5;124;43mimage_1\u001b[39;49m\u001b[38;5;124;43m'\u001b[39;49m\u001b[43m)\u001b[49m\n",
      "File \u001b[1;32m~\\Documents\\GitHub\\google-api-support\\docs\\examples\\../../GoogleApiSupport\\slides.py:163\u001b[0m, in \u001b[0;36mreplace_shape_with_image\u001b[1;34m(url, presentation_id, contains_text, local_image_path)\u001b[0m\n\u001b[0;32m    161\u001b[0m tmp_image \u001b[38;5;241m=\u001b[39m \u001b[38;5;28;01mNone\u001b[39;00m\n\u001b[0;32m    162\u001b[0m \u001b[38;5;28;01mif\u001b[39;00m url\u001b[38;5;241m.\u001b[39msplit(\u001b[38;5;124m'\u001b[39m\u001b[38;5;124m/\u001b[39m\u001b[38;5;124m'\u001b[39m)[\u001b[38;5;241m0\u001b[39m]\u001b[38;5;241m.\u001b[39mstrip(\u001b[38;5;124m'\u001b[39m\u001b[38;5;124m:\u001b[39m\u001b[38;5;124m'\u001b[39m) \u001b[38;5;129;01min\u001b[39;00m (\u001b[38;5;124m'\u001b[39m\u001b[38;5;124mhttp\u001b[39m\u001b[38;5;124m'\u001b[39m, \u001b[38;5;124m'\u001b[39m\u001b[38;5;124mhttps\u001b[39m\u001b[38;5;124m'\u001b[39m):\n\u001b[1;32m--> 163\u001b[0m     tmp_image \u001b[38;5;241m=\u001b[39m \u001b[43mdrive\u001b[49m\u001b[38;5;241;43m.\u001b[39;49m\u001b[43mupload_image\u001b[49m\u001b[43m(\u001b[49m\u001b[38;5;124;43m'\u001b[39;49m\u001b[38;5;124;43mtmp_img_\u001b[39;49m\u001b[38;5;132;43;01m{}\u001b[39;49;00m\u001b[38;5;124;43m'\u001b[39;49m\u001b[38;5;241;43m.\u001b[39;49m\u001b[43mformat\u001b[49m\u001b[43m(\u001b[49m\u001b[38;5;28;43mstr\u001b[39;49m\u001b[43m(\u001b[49m\u001b[38;5;28;43mint\u001b[39;49m\u001b[43m(\u001b[49m\u001b[38;5;28;43mround\u001b[39;49m\u001b[43m(\u001b[49m\u001b[43mtime\u001b[49m\u001b[38;5;241;43m.\u001b[39;49m\u001b[43mtime\u001b[49m\u001b[43m(\u001b[49m\u001b[43m)\u001b[49m\u001b[43m)\u001b[49m\u001b[43m)\u001b[49m\u001b[43m)\u001b[49m\u001b[43m)\u001b[49m\u001b[43m,\u001b[49m\u001b[43m \u001b[49m\u001b[43murl\u001b[49m\u001b[43m)\u001b[49m\n\u001b[0;32m    164\u001b[0m     url \u001b[38;5;241m=\u001b[39m tmp_image[\u001b[38;5;124m'\u001b[39m\u001b[38;5;124mimage_url\u001b[39m\u001b[38;5;124m'\u001b[39m]\n\u001b[0;32m    165\u001b[0m requests \u001b[38;5;241m=\u001b[39m [\n\u001b[0;32m    166\u001b[0m     {\n\u001b[0;32m    167\u001b[0m         \u001b[38;5;124m\"\u001b[39m\u001b[38;5;124mreplaceAllShapesWithImage\u001b[39m\u001b[38;5;124m\"\u001b[39m: {\n\u001b[1;32m   (...)\u001b[0m\n\u001b[0;32m    173\u001b[0m         }\n\u001b[0;32m    174\u001b[0m     }]\n",
      "File \u001b[1;32m~\\Documents\\GitHub\\google-api-support\\venv\\lib\\site-packages\\GoogleApiSupport\\drive.py:169\u001b[0m, in \u001b[0;36mupload_image\u001b[1;34m(image_name, image_file_path, folder_destination_id)\u001b[0m\n\u001b[0;32m    166\u001b[0m \u001b[38;5;28;01mdef\u001b[39;00m \u001b[38;5;21mupload_image\u001b[39m(image_name: \u001b[38;5;28mstr\u001b[39m, image_file_path: \u001b[38;5;28mstr\u001b[39m, folder_destination_id\u001b[38;5;241m=\u001b[39m\u001b[38;5;28;01mNone\u001b[39;00m):\n\u001b[0;32m    167\u001b[0m     service \u001b[38;5;241m=\u001b[39m auth\u001b[38;5;241m.\u001b[39mget_service(\u001b[38;5;124m\"\u001b[39m\u001b[38;5;124mdrive\u001b[39m\u001b[38;5;124m\"\u001b[39m)\n\u001b[1;32m--> 169\u001b[0m     file \u001b[38;5;241m=\u001b[39m \u001b[43mservice\u001b[49m\u001b[38;5;241;43m.\u001b[39;49m\u001b[43mfiles\u001b[49m\u001b[43m(\u001b[49m\u001b[43m)\u001b[49m\u001b[38;5;241;43m.\u001b[39;49m\u001b[43mcreate\u001b[49m\u001b[43m(\u001b[49m\n\u001b[0;32m    170\u001b[0m \u001b[43m        \u001b[49m\u001b[43mbody\u001b[49m\u001b[38;5;241;43m=\u001b[39;49m\u001b[43m{\u001b[49m\u001b[38;5;124;43m'\u001b[39;49m\u001b[38;5;124;43mname\u001b[39;49m\u001b[38;5;124;43m'\u001b[39;49m\u001b[43m:\u001b[49m\u001b[43m \u001b[49m\u001b[43mimage_name\u001b[49m\u001b[43m,\u001b[49m\u001b[43m \u001b[49m\u001b[38;5;124;43m'\u001b[39;49m\u001b[38;5;124;43mmimeType\u001b[39;49m\u001b[38;5;124;43m'\u001b[39;49m\u001b[43m:\u001b[49m\u001b[43m \u001b[49m\u001b[38;5;124;43m'\u001b[39;49m\u001b[38;5;124;43mimage/png\u001b[39;49m\u001b[38;5;124;43m'\u001b[39;49m\u001b[43m}\u001b[49m\u001b[43m,\u001b[49m\u001b[43m \u001b[49m\u001b[43mmedia_body\u001b[49m\u001b[38;5;241;43m=\u001b[39;49m\u001b[43mimage_file_path\u001b[49m\u001b[43m)\u001b[49m\u001b[38;5;241m.\u001b[39mexecute()\n\u001b[0;32m    171\u001b[0m     file_id \u001b[38;5;241m=\u001b[39m file\u001b[38;5;241m.\u001b[39mget(\u001b[38;5;124m'\u001b[39m\u001b[38;5;124mid\u001b[39m\u001b[38;5;124m'\u001b[39m)\n\u001b[0;32m    172\u001b[0m     service\u001b[38;5;241m.\u001b[39mpermissions()\u001b[38;5;241m.\u001b[39mcreate(fileId\u001b[38;5;241m=\u001b[39mfile_id,\n\u001b[0;32m    173\u001b[0m                                  body\u001b[38;5;241m=\u001b[39m{\u001b[38;5;124m\"\u001b[39m\u001b[38;5;124mrole\u001b[39m\u001b[38;5;124m\"\u001b[39m: \u001b[38;5;124m\"\u001b[39m\u001b[38;5;124mreader\u001b[39m\u001b[38;5;124m\"\u001b[39m, \u001b[38;5;124m\"\u001b[39m\u001b[38;5;124mtype\u001b[39m\u001b[38;5;124m\"\u001b[39m: \u001b[38;5;124m\"\u001b[39m\u001b[38;5;124manyone\u001b[39m\u001b[38;5;124m\"\u001b[39m, \u001b[38;5;124m\"\u001b[39m\u001b[38;5;124mwithLink\u001b[39m\u001b[38;5;124m\"\u001b[39m: \u001b[38;5;28;01mTrue\u001b[39;00m})\u001b[38;5;241m.\u001b[39mexecute()\n",
      "File \u001b[1;32m~\\Documents\\GitHub\\google-api-support\\venv\\lib\\site-packages\\googleapiclient\\discovery.py:1120\u001b[0m, in \u001b[0;36mcreateMethod.<locals>.method\u001b[1;34m(self, **kwargs)\u001b[0m\n\u001b[0;32m   1118\u001b[0m     media_mime_type, _ \u001b[38;5;241m=\u001b[39m mimetypes\u001b[38;5;241m.\u001b[39mguess_type(media_filename)\n\u001b[0;32m   1119\u001b[0m \u001b[38;5;28;01mif\u001b[39;00m media_mime_type \u001b[38;5;129;01mis\u001b[39;00m \u001b[38;5;28;01mNone\u001b[39;00m:\n\u001b[1;32m-> 1120\u001b[0m     \u001b[38;5;28;01mraise\u001b[39;00m UnknownFileType(media_filename)\n\u001b[0;32m   1121\u001b[0m \u001b[38;5;28;01mif\u001b[39;00m \u001b[38;5;129;01mnot\u001b[39;00m mimeparse\u001b[38;5;241m.\u001b[39mbest_match([media_mime_type], \u001b[38;5;124m\"\u001b[39m\u001b[38;5;124m,\u001b[39m\u001b[38;5;124m\"\u001b[39m\u001b[38;5;241m.\u001b[39mjoin(accept)):\n\u001b[0;32m   1122\u001b[0m     \u001b[38;5;28;01mraise\u001b[39;00m UnacceptableMimeTypeError(media_mime_type)\n",
      "\u001b[1;31mUnknownFileType\u001b[0m: https://placehold.co/600x400"
     ]
    }
   ],
   "source": [
    "slides.replace_shape_with_image('https://placehold.co/600x400', output_file, 'image_1')"
   ]
  },
  {
   "cell_type": "code",
   "execution_count": 15,
   "metadata": {},
   "outputs": [
    {
     "name": "stderr",
     "output_type": "stream",
     "text": [
      "WARNING:googleapiclient.discovery:media_mime_type argument not specified: trying to auto-detect for C:\\Users\\victo\\Downloads\\onions.png\n"
     ]
    },
    {
     "name": "stdout",
     "output_type": "stream",
     "text": [
      "https://drive.google.com/uc?id=10Uxy45lz9YEZUL7cvJrRlX_ms7lz0TWZ\n"
     ]
    },
    {
     "ename": "HttpError",
     "evalue": "<HttpError 400 when requesting https://slides.googleapis.com/v1/presentations/13P1EhKMgxVqMc7ipRXRhdfv6fJzy4MIR3Ydi_twn2CU:batchUpdate?alt=json returned \"Invalid requests[0].replaceAllShapesWithImage: Access to the provided image was forbidden.\". Details: \"Invalid requests[0].replaceAllShapesWithImage: Access to the provided image was forbidden.\">",
     "output_type": "error",
     "traceback": [
      "\u001b[1;31m---------------------------------------------------------------------------\u001b[0m",
      "\u001b[1;31mHttpError\u001b[0m                                 Traceback (most recent call last)",
      "Cell \u001b[1;32mIn [15], line 24\u001b[0m\n\u001b[0;32m     20\u001b[0m     \u001b[38;5;28;01mif\u001b[39;00m tmp_image: drive\u001b[38;5;241m.\u001b[39mdelete_file(file_id\u001b[38;5;241m=\u001b[39mtmp_image[\u001b[38;5;124m'\u001b[39m\u001b[38;5;124mfile_id\u001b[39m\u001b[38;5;124m'\u001b[39m])\n\u001b[0;32m     21\u001b[0m     \u001b[38;5;28;01mreturn\u001b[39;00m response\n\u001b[1;32m---> 24\u001b[0m \u001b[43mreplace_shape_with_image\u001b[49m\u001b[43m(\u001b[49m\u001b[38;5;124;43mr\u001b[39;49m\u001b[38;5;124;43m'\u001b[39;49m\u001b[38;5;124;43mC:\u001b[39;49m\u001b[38;5;124;43m\\\u001b[39;49m\u001b[38;5;124;43mUsers\u001b[39;49m\u001b[38;5;124;43m\\\u001b[39;49m\u001b[38;5;124;43mvicto\u001b[39;49m\u001b[38;5;124;43m\\\u001b[39;49m\u001b[38;5;124;43mDownloads\u001b[39;49m\u001b[38;5;124;43m\\\u001b[39;49m\u001b[38;5;124;43monions.png\u001b[39;49m\u001b[38;5;124;43m'\u001b[39;49m\u001b[43m,\u001b[49m\u001b[43m \u001b[49m\u001b[43moutput_file\u001b[49m\u001b[43m,\u001b[49m\u001b[43m \u001b[49m\u001b[38;5;124;43m'\u001b[39;49m\u001b[38;5;124;43mimage_2\u001b[39;49m\u001b[38;5;124;43m'\u001b[39;49m\u001b[43m)\u001b[49m\n",
      "Cell \u001b[1;32mIn [15], line 19\u001b[0m, in \u001b[0;36mreplace_shape_with_image\u001b[1;34m(url, presentation_id, contains_text, local_image_path)\u001b[0m\n\u001b[0;32m      8\u001b[0m     \u001b[38;5;28mprint\u001b[39m(url)\n\u001b[0;32m      9\u001b[0m requests \u001b[38;5;241m=\u001b[39m [\n\u001b[0;32m     10\u001b[0m     {\n\u001b[0;32m     11\u001b[0m         \u001b[38;5;124m\"\u001b[39m\u001b[38;5;124mreplaceAllShapesWithImage\u001b[39m\u001b[38;5;124m\"\u001b[39m: {\n\u001b[1;32m   (...)\u001b[0m\n\u001b[0;32m     17\u001b[0m         }\n\u001b[0;32m     18\u001b[0m     }]\n\u001b[1;32m---> 19\u001b[0m response \u001b[38;5;241m=\u001b[39m \u001b[43mslides\u001b[49m\u001b[38;5;241;43m.\u001b[39;49m\u001b[43mexecute_batch_update\u001b[49m\u001b[43m(\u001b[49m\u001b[43mrequests\u001b[49m\u001b[43m,\u001b[49m\u001b[43m \u001b[49m\u001b[43mpresentation_id\u001b[49m\u001b[43m)\u001b[49m\n\u001b[0;32m     20\u001b[0m \u001b[38;5;28;01mif\u001b[39;00m tmp_image: drive\u001b[38;5;241m.\u001b[39mdelete_file(file_id\u001b[38;5;241m=\u001b[39mtmp_image[\u001b[38;5;124m'\u001b[39m\u001b[38;5;124mfile_id\u001b[39m\u001b[38;5;124m'\u001b[39m])\n\u001b[0;32m     21\u001b[0m \u001b[38;5;28;01mreturn\u001b[39;00m response\n",
      "File \u001b[1;32m~\\Documents\\GitHub\\google-api-support\\docs\\examples\\../../GoogleApiSupport\\slides.py:80\u001b[0m, in \u001b[0;36mexecute_batch_update\u001b[1;34m(requests, presentation_id, additional_apis)\u001b[0m\n\u001b[0;32m     73\u001b[0m body \u001b[38;5;241m=\u001b[39m {\n\u001b[0;32m     74\u001b[0m     \u001b[38;5;124m'\u001b[39m\u001b[38;5;124mrequests\u001b[39m\u001b[38;5;124m'\u001b[39m: requests\n\u001b[0;32m     75\u001b[0m }\n\u001b[0;32m     77\u001b[0m service \u001b[38;5;241m=\u001b[39m auth\u001b[38;5;241m.\u001b[39mget_service(\u001b[38;5;124m\"\u001b[39m\u001b[38;5;124mslides\u001b[39m\u001b[38;5;124m\"\u001b[39m, additional_apis\u001b[38;5;241m=\u001b[39madditional_apis)\n\u001b[0;32m     79\u001b[0m response \u001b[38;5;241m=\u001b[39m \u001b[43mservice\u001b[49m\u001b[38;5;241;43m.\u001b[39;49m\u001b[43mpresentations\u001b[49m\u001b[43m(\u001b[49m\u001b[43m)\u001b[49m\u001b[38;5;241;43m.\u001b[39;49m\u001b[43mbatchUpdate\u001b[49m\u001b[43m(\u001b[49m\u001b[43mpresentationId\u001b[49m\u001b[38;5;241;43m=\u001b[39;49m\u001b[43mpresentation_id\u001b[49m\u001b[43m,\u001b[49m\n\u001b[1;32m---> 80\u001b[0m \u001b[43m                                                      \u001b[49m\u001b[43mbody\u001b[49m\u001b[38;5;241;43m=\u001b[39;49m\u001b[43mbody\u001b[49m\u001b[43m)\u001b[49m\u001b[38;5;241;43m.\u001b[39;49m\u001b[43mexecute\u001b[49m\u001b[43m(\u001b[49m\u001b[43m)\u001b[49m\n\u001b[0;32m     81\u001b[0m \u001b[38;5;28;01mreturn\u001b[39;00m response\n",
      "File \u001b[1;32m~\\Documents\\GitHub\\google-api-support\\venv\\lib\\site-packages\\googleapiclient\\_helpers.py:130\u001b[0m, in \u001b[0;36mpositional.<locals>.positional_decorator.<locals>.positional_wrapper\u001b[1;34m(*args, **kwargs)\u001b[0m\n\u001b[0;32m    128\u001b[0m     \u001b[38;5;28;01melif\u001b[39;00m positional_parameters_enforcement \u001b[38;5;241m==\u001b[39m POSITIONAL_WARNING:\n\u001b[0;32m    129\u001b[0m         logger\u001b[38;5;241m.\u001b[39mwarning(message)\n\u001b[1;32m--> 130\u001b[0m \u001b[38;5;28;01mreturn\u001b[39;00m wrapped(\u001b[38;5;241m*\u001b[39margs, \u001b[38;5;241m*\u001b[39m\u001b[38;5;241m*\u001b[39mkwargs)\n",
      "File \u001b[1;32m~\\Documents\\GitHub\\google-api-support\\venv\\lib\\site-packages\\googleapiclient\\http.py:938\u001b[0m, in \u001b[0;36mHttpRequest.execute\u001b[1;34m(self, http, num_retries)\u001b[0m\n\u001b[0;32m    936\u001b[0m     callback(resp)\n\u001b[0;32m    937\u001b[0m \u001b[38;5;28;01mif\u001b[39;00m resp\u001b[38;5;241m.\u001b[39mstatus \u001b[38;5;241m>\u001b[39m\u001b[38;5;241m=\u001b[39m \u001b[38;5;241m300\u001b[39m:\n\u001b[1;32m--> 938\u001b[0m     \u001b[38;5;28;01mraise\u001b[39;00m HttpError(resp, content, uri\u001b[38;5;241m=\u001b[39m\u001b[38;5;28mself\u001b[39m\u001b[38;5;241m.\u001b[39muri)\n\u001b[0;32m    939\u001b[0m \u001b[38;5;28;01mreturn\u001b[39;00m \u001b[38;5;28mself\u001b[39m\u001b[38;5;241m.\u001b[39mpostproc(resp, content)\n",
      "\u001b[1;31mHttpError\u001b[0m: <HttpError 400 when requesting https://slides.googleapis.com/v1/presentations/13P1EhKMgxVqMc7ipRXRhdfv6fJzy4MIR3Ydi_twn2CU:batchUpdate?alt=json returned \"Invalid requests[0].replaceAllShapesWithImage: Access to the provided image was forbidden.\". Details: \"Invalid requests[0].replaceAllShapesWithImage: Access to the provided image was forbidden.\">"
     ]
    }
   ],
   "source": [
    "import time\n",
    "\n",
    "def replace_shape_with_image(url: str, presentation_id: str, contains_text: str = None, local_image_path = None):\n",
    "    tmp_image = None\n",
    "    if not url.split('/')[0].strip(':') in ('http', 'https'):\n",
    "        tmp_image = drive.upload_image('tmp_img_{}'.format(str(int(round(time.time())))), url)\n",
    "        url = tmp_image['image_url']\n",
    "        print(url)\n",
    "    requests = [\n",
    "        {\n",
    "            \"replaceAllShapesWithImage\": {\n",
    "                \"imageUrl\": url,\n",
    "                \"replaceMethod\": \"CENTER_INSIDE\",\n",
    "                \"containsText\": {\n",
    "                    \"text\": \"{{\" + contains_text + \"}}\",\n",
    "                }\n",
    "            }\n",
    "        }]\n",
    "    response = slides.execute_batch_update(requests, presentation_id)\n",
    "    if tmp_image: drive.delete_file(file_id=tmp_image['file_id'])\n",
    "    return response\n",
    "\n",
    "\n",
    "replace_shape_with_image(r'C:\\Users\\victo\\Downloads\\onions.png', output_file, 'image_2')"
   ]
  },
  {
   "cell_type": "code",
   "execution_count": 19,
   "metadata": {},
   "outputs": [],
   "source": []
  },
  {
   "cell_type": "code",
   "execution_count": 29,
   "metadata": {},
   "outputs": [
    {
     "data": {
      "text/html": [
       "<div>\n",
       "<style scoped>\n",
       "    .dataframe tbody tr th:only-of-type {\n",
       "        vertical-align: middle;\n",
       "    }\n",
       "\n",
       "    .dataframe tbody tr th {\n",
       "        vertical-align: top;\n",
       "    }\n",
       "\n",
       "    .dataframe thead th {\n",
       "        text-align: right;\n",
       "    }\n",
       "</style>\n",
       "<table border=\"1\" class=\"dataframe\">\n",
       "  <thead>\n",
       "    <tr style=\"text-align: right;\">\n",
       "      <th></th>\n",
       "      <th>url</th>\n",
       "      <th>hint</th>\n",
       "    </tr>\n",
       "  </thead>\n",
       "  <tbody>\n",
       "    <tr>\n",
       "      <th>0</th>\n",
       "      <td>https://topodesigns.com/</td>\n",
       "      <td>waistpack</td>\n",
       "    </tr>\n",
       "    <tr>\n",
       "      <th>1</th>\n",
       "      <td>https://www.peakdesign.com/products/packing-cube</td>\n",
       "      <td>packingcube</td>\n",
       "    </tr>\n",
       "    <tr>\n",
       "      <th>2</th>\n",
       "      <td>https://www.patagonia.com/product/lightweight-...</td>\n",
       "      <td>socks, merino</td>\n",
       "    </tr>\n",
       "    <tr>\n",
       "      <th>3</th>\n",
       "      <td>https://www.patagonia.com/product/stand-up-bel...</td>\n",
       "      <td>sling</td>\n",
       "    </tr>\n",
       "    <tr>\n",
       "      <th>4</th>\n",
       "      <td>https://packhacker.com/packing-list/</td>\n",
       "      <td>packs</td>\n",
       "    </tr>\n",
       "    <tr>\n",
       "      <th>5</th>\n",
       "      <td>https://matadorup.com/</td>\n",
       "      <td>LAURA HOLA</td>\n",
       "    </tr>\n",
       "    <tr>\n",
       "      <th>6</th>\n",
       "      <td>https://huckberry.com/store/the-james-brand/ca...</td>\n",
       "      <td>pen</td>\n",
       "    </tr>\n",
       "    <tr>\n",
       "      <th>7</th>\n",
       "      <td>https://www.aersf.com/travel-kit-black/</td>\n",
       "      <td>travelkit</td>\n",
       "    </tr>\n",
       "    <tr>\n",
       "      <th>8</th>\n",
       "      <td>https://shop.outlier.nyc/shop/retail/</td>\n",
       "      <td>clothes</td>\n",
       "    </tr>\n",
       "    <tr>\n",
       "      <th>9</th>\n",
       "      <td>https://www.heimplanet.com/shop/Transit-Line-S...</td>\n",
       "      <td>sling</td>\n",
       "    </tr>\n",
       "  </tbody>\n",
       "</table>\n",
       "</div>"
      ],
      "text/plain": [
       "                                                 url           hint\n",
       "0                           https://topodesigns.com/      waistpack\n",
       "1   https://www.peakdesign.com/products/packing-cube    packingcube\n",
       "2  https://www.patagonia.com/product/lightweight-...  socks, merino\n",
       "3  https://www.patagonia.com/product/stand-up-bel...          sling\n",
       "4               https://packhacker.com/packing-list/          packs\n",
       "5                             https://matadorup.com/     LAURA HOLA\n",
       "6  https://huckberry.com/store/the-james-brand/ca...            pen\n",
       "7            https://www.aersf.com/travel-kit-black/      travelkit\n",
       "8              https://shop.outlier.nyc/shop/retail/        clothes\n",
       "9  https://www.heimplanet.com/shop/Transit-Line-S...          sling"
      ]
     },
     "execution_count": 29,
     "metadata": {},
     "output_type": "execute_result"
    }
   ],
   "source": []
  },
  {
   "cell_type": "code",
   "execution_count": 44,
   "metadata": {},
   "outputs": [
    {
     "name": "stdout",
     "output_type": "stream",
     "text": [
      "https://topodesigns.com/\n"
     ]
    }
   ],
   "source": []
  },
  {
   "cell_type": "code",
   "execution_count": null,
   "metadata": {},
   "outputs": [],
   "source": [
    "\n",
    "\n",
    "slides.text_replace('placeholder_1', 'Laura', '1EE3sFQL2cwHl1EmALnmpczlt-iC_k_H4iGUnl62wf-I')"
   ]
  },
  {
   "cell_type": "code",
   "execution_count": null,
   "metadata": {},
   "outputs": [],
   "source": [
    "slides.text_replace('total_visits', 'Laura', '1EE3sFQL2cwHl1EmALnmpczlt-iC_k_H4iGUnl62wf-I')"
   ]
  }
 ],
 "metadata": {
  "kernelspec": {
   "display_name": "Python 3 (ipykernel)",
   "language": "python",
   "name": "python3"
  },
  "language_info": {
   "codemirror_mode": {
    "name": "ipython",
    "version": 3
   },
   "file_extension": ".py",
   "mimetype": "text/x-python",
   "name": "python",
   "nbconvert_exporter": "python",
   "pygments_lexer": "ipython3",
   "version": "3.10.6"
  },
  "vscode": {
   "interpreter": {
    "hash": "aee8b7b246df8f9039afb4144a1f6fd8d2ca17a180786b69acc140d282b71a49"
   }
  }
 },
 "nbformat": 4,
 "nbformat_minor": 4
}
