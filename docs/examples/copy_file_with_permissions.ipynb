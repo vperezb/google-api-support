{
 "cells": [
  {
   "cell_type": "markdown",
   "metadata": {},
   "source": [
    "# Copy file and transfer its permissions\n",
    "\n",
    "As mentioned in the [issue #28](https://github.com/vperezb/google-api-support/issues/28), when copying a file with a service account, the main user doesn't have access to the new file, unless the entire folder was shared with the service account (and the user).\n",
    "\n",
    "To solve this issue, the option was added to copy the permissions from the original file to the new file.\n",
    "\n",
    "I will run this example with this [file](https://docs.google.com/presentation/d/1dn4QliG5lY2CVp5TbRWwlgnyWPY6L7wrTOCbBQVgZHA/) from my personal drive to which I have given the following additional permissions:\n",
    "* editor to the service account\n",
    "* viewer to everyone that has the link\n",
    "\n",
    "To show the effectiveness of this added option, I will copy the file twice and compare results:\n",
    "1. without copying permissions\n",
    "2. with copying permissions"
   ]
  },
  {
   "cell_type": "code",
   "execution_count": 1,
   "metadata": {},
   "outputs": [],
   "source": [
    "# Doing this to import the changed version of the library\n",
    "import sys\n",
    "sys.path.append('../../GoogleApiSupport')\n",
    "import drive"
   ]
  },
  {
   "cell_type": "code",
   "execution_count": 2,
   "metadata": {},
   "outputs": [],
   "source": [
    "# Credentials\n",
    "import os\n",
    "ROOT_DIR=os.getcwd()\n",
    "os.environ['GOOGLE_APPLICATION_CREDENTIALS'] = os.path.join(ROOT_DIR, \"../../.credentials/service_credentials.json\")"
   ]
  },
  {
   "cell_type": "code",
   "execution_count": 3,
   "metadata": {},
   "outputs": [],
   "source": [
    "start_file_id='1dn4QliG5lY2CVp5TbRWwlgnyWPY6L7wrTOCbBQVgZHA'"
   ]
  },
  {
   "cell_type": "markdown",
   "metadata": {},
   "source": [
    "### Without copying permissions"
   ]
  },
  {
   "cell_type": "code",
   "execution_count": 4,
   "metadata": {},
   "outputs": [
    {
     "name": "stdout",
     "output_type": "stream",
     "text": [
      "Copying file 1dn4QliG5lY2CVp5TbRWwlgnyWPY6L7wrTOCbBQVgZHA with name Test_Presentation_Without_Permissions\n",
      "Output file id without copying permissions: 1XN7jMudvbAXEpXVvUhftL60fKUg6yqdSbyjaDvzRHkQ\n"
     ]
    }
   ],
   "source": [
    "new_file_id_without = drive.copy_file(file_from_id=start_file_id, new_file_name='Test_Presentation_Without_Permissions')\n",
    "print('Output file id without copying permissions:', new_file_id_without)"
   ]
  },
  {
   "cell_type": "markdown",
   "metadata": {},
   "source": [
    "As you can attest by trying to access this [file](https://docs.google.com/presentation/d/1XN7jMudvbAXEpXVvUhftL60fKUg6yqdSbyjaDvzRHkQ/), this is not possible as the only permission is the owner which is the service account."
   ]
  },
  {
   "cell_type": "markdown",
   "metadata": {},
   "source": [
    "### With copying permissions"
   ]
  },
  {
   "cell_type": "code",
   "execution_count": 5,
   "metadata": {},
   "outputs": [
    {
     "name": "stdout",
     "output_type": "stream",
     "text": [
      "Copying file 1dn4QliG5lY2CVp5TbRWwlgnyWPY6L7wrTOCbBQVgZHA with name Test_Presentation_With_Permissions\n",
      "Successfully transferred permissions from file 1dn4QliG5lY2CVp5TbRWwlgnyWPY6L7wrTOCbBQVgZHA to file 1knjOBkHpYy0HQ1QT440qrDiu6dfJxFdXY82HAw5VjjU\n",
      "Output file id with copying permissions: 1knjOBkHpYy0HQ1QT440qrDiu6dfJxFdXY82HAw5VjjU\n"
     ]
    }
   ],
   "source": [
    "new_file_id_with = drive.copy_file(file_from_id=start_file_id, new_file_name='Test_Presentation_With_Permissions', \n",
    "                                   supports_all_drives=True, transfer_permissions=True)\n",
    "print('Output file id with copying permissions:', new_file_id_with)"
   ]
  },
  {
   "cell_type": "markdown",
   "metadata": {},
   "source": [
    "As you can attest by trying to access this [file](https://docs.google.com/presentation/d/1knjOBkHpYy0HQ1QT440qrDiu6dfJxFdXY82HAw5VjjU/), the permissions have been carried over and now everyone with the link has viewer access to it."
   ]
  }
 ],
 "metadata": {
  "kernelspec": {
   "display_name": "Python 3 (ipykernel)",
   "language": "python",
   "name": "python3"
  },
  "language_info": {
   "codemirror_mode": {
    "name": "ipython",
    "version": 3
   },
   "file_extension": ".py",
   "mimetype": "text/x-python",
   "name": "python",
   "nbconvert_exporter": "python",
   "pygments_lexer": "ipython3",
   "version": "3.10.6"
  },
  "vscode": {
   "interpreter": {
    "hash": "aee8b7b246df8f9039afb4144a1f6fd8d2ca17a180786b69acc140d282b71a49"
   }
  }
 },
 "nbformat": 4,
 "nbformat_minor": 4
}
