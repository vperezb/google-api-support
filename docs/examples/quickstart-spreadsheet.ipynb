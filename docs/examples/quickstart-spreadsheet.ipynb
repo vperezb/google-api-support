{
 "cells": [
  {
   "cell_type": "code",
   "execution_count": 3,
   "id": "e48b5fd9-fdad-4f2c-9b5b-733ac1e5808f",
   "metadata": {},
   "outputs": [],
   "source": [
    "# Doing this to import the changed version of the library\n",
    "import sys\n",
    "sys.path.append('../../GoogleApiSupport')\n",
    "import drive"
   ]
  },
  {
   "cell_type": "code",
   "execution_count": 4,
   "id": "4e0b4b5a-60fc-4d93-aba7-4346f624ac48",
   "metadata": {},
   "outputs": [],
   "source": [
    "TEST_WRITE_FILE_ID = '19Q8y1uR8SD27GiVN200e87ufoMklH2KBh2NfyQTEt9Q'\n",
    "TEST_READONLY_FILE_ID = '1cMTfxikXMAgmdVXj3PKuD1fX_vPnQmO5teg15zGarOc'"
   ]
  },
  {
   "cell_type": "code",
   "execution_count": 26,
   "id": "7128b29f-d859-402a-af7e-6e0a67fb4349",
   "metadata": {},
   "outputs": [
    {
     "name": "stdout",
     "output_type": "stream",
     "text": [
      "Copying file 1cMTfxikXMAgmdVXj3PKuD1fX_vPnQmO5teg15zGarOc with name my_new_file\n"
     ]
    },
    {
     "name": "stderr",
     "output_type": "stream",
     "text": [
      "WARNING:googleapiclient.http:Encountered 403 Forbidden with reason \"insufficientFilePermissions\"\n"
     ]
    },
    {
     "name": "stdout",
     "output_type": "stream",
     "text": [
      "An error occurred: <HttpError 403 when requesting https://www.googleapis.com/drive/v3/files/1cMTfxikXMAgmdVXj3PKuD1fX_vPnQmO5teg15zGarOc/permissions?fields=%2A&alt=json returned \"The user does not have sufficient permissions for this file.\". Details: \"[{'message': 'The user does not have sufficient permissions for this file.', 'domain': 'global', 'reason': 'insufficientFilePermissions'}]\">\n"
     ]
    },
    {
     "ename": "TypeError",
     "evalue": "'NoneType' object is not iterable",
     "output_type": "error",
     "traceback": [
      "\u001b[1;31m---------------------------------------------------------------------------\u001b[0m",
      "\u001b[1;31mTypeError\u001b[0m                                 Traceback (most recent call last)",
      "Cell \u001b[1;32mIn [26], line 2\u001b[0m\n\u001b[0;32m      1\u001b[0m \u001b[38;5;66;03m# Create a copy from the TEST_READONLY_FILE_ID\u001b[39;00m\n\u001b[1;32m----> 2\u001b[0m my_file \u001b[38;5;241m=\u001b[39m \u001b[43mdrive\u001b[49m\u001b[38;5;241;43m.\u001b[39;49m\u001b[43mcopy_file\u001b[49m\u001b[43m(\u001b[49m\u001b[43mTEST_READONLY_FILE_ID\u001b[49m\u001b[43m,\u001b[49m\u001b[43m \u001b[49m\u001b[38;5;124;43m'\u001b[39;49m\u001b[38;5;124;43mmy_new_file\u001b[39;49m\u001b[38;5;124;43m'\u001b[39;49m\u001b[43m,\u001b[49m\u001b[43m \u001b[49m\u001b[43msupports_all_drives\u001b[49m\u001b[38;5;241;43m=\u001b[39;49m\u001b[38;5;28;43;01mTrue\u001b[39;49;00m\u001b[43m,\u001b[49m\u001b[43m \u001b[49m\u001b[43mtransfer_permissions\u001b[49m\u001b[38;5;241;43m=\u001b[39;49m\u001b[38;5;28;43;01mTrue\u001b[39;49;00m\u001b[43m)\u001b[49m\n",
      "File \u001b[1;32m~\\Documents\\GitHub\\google-api-support\\GoogleApiSupport\\drive.py:140\u001b[0m, in \u001b[0;36mcopy_file\u001b[1;34m(file_from_id, new_file_name, supports_all_drives, transfer_permissions, **kwargs)\u001b[0m\n\u001b[0;32m    137\u001b[0m new_file_id \u001b[38;5;241m=\u001b[39m drive_response\u001b[38;5;241m.\u001b[39mget(\u001b[38;5;124m'\u001b[39m\u001b[38;5;124mid\u001b[39m\u001b[38;5;124m'\u001b[39m)\n\u001b[0;32m    139\u001b[0m \u001b[38;5;28;01mif\u001b[39;00m transfer_permissions:\n\u001b[1;32m--> 140\u001b[0m     copy_permissions(start_file_id\u001b[38;5;241m=\u001b[39mfile_from_id, \n\u001b[0;32m    141\u001b[0m                      end_file_id\u001b[38;5;241m=\u001b[39mnew_file_id, \n\u001b[0;32m    142\u001b[0m                      supportsAllDrives\u001b[38;5;241m=\u001b[39msupports_all_drives,\n\u001b[0;32m    143\u001b[0m                      \u001b[38;5;241m*\u001b[39m\u001b[38;5;241m*\u001b[39mkwargs)\n\u001b[0;32m    145\u001b[0m \u001b[38;5;28;01mreturn\u001b[39;00m new_file_id\n",
      "File \u001b[1;32m~\\Documents\\GitHub\\google-api-support\\GoogleApiSupport\\drive.py:65\u001b[0m, in \u001b[0;36mcopy_permissions\u001b[1;34m(start_file_id, end_file_id, **kwargs)\u001b[0m\n\u001b[0;32m     62\u001b[0m start_permissions \u001b[38;5;241m=\u001b[39m retrieve_permissions(file_id\u001b[38;5;241m=\u001b[39mstart_file_id, fields\u001b[38;5;241m=\u001b[39mretrieve_fields)\n\u001b[0;32m     64\u001b[0m \u001b[38;5;66;03m# Insert permissions one by one\u001b[39;00m\n\u001b[1;32m---> 65\u001b[0m \u001b[38;5;28;01mfor\u001b[39;00m permission \u001b[38;5;129;01min\u001b[39;00m start_permissions:\n\u001b[0;32m     66\u001b[0m     perm_type \u001b[38;5;241m=\u001b[39m permission[\u001b[38;5;124m'\u001b[39m\u001b[38;5;124mtype\u001b[39m\u001b[38;5;124m'\u001b[39m]\n\u001b[0;32m     67\u001b[0m     \u001b[38;5;66;03m# Ownership transfers are not supported for files and folders in shared drives. - OR maybe yes with additional arg \"supportAllDrives\"\u001b[39;00m\n\u001b[0;32m     68\u001b[0m     \u001b[38;5;66;03m# Owndership transfer is only possible if service account has domain-wide authority\u001b[39;00m\n",
      "\u001b[1;31mTypeError\u001b[0m: 'NoneType' object is not iterable"
     ]
    }
   ],
   "source": [
    "# Create a copy from the TEST_READONLY_FILE_ID\n",
    "my_file = drive.copy_file(TEST_READONLY_FILE_ID, 'my_new_file', supports_all_drives=True, transfer_permissions=True)"
   ]
  },
  {
   "cell_type": "code",
   "execution_count": 9,
   "id": "66628a6c-e342-45cd-be48-6f346bf26e02",
   "metadata": {},
   "outputs": [
    {
     "data": {
      "text/plain": [
       "'1VseXKRYujkryQ5jsp5ddegu2RZ7Pc0dWvY8KYoCm0O4'"
      ]
     },
     "execution_count": 9,
     "metadata": {},
     "output_type": "execute_result"
    }
   ],
   "source": [
    "my_file"
   ]
  },
  {
   "cell_type": "code",
   "execution_count": null,
   "id": "d2df680c-f191-4dfb-be9c-081cbd2a210f",
   "metadata": {},
   "outputs": [],
   "source": [
    "response = spreadsheets.add_sheet(TEST_WRITE_FILE_ID, 'tmp__new_page_test')\n",
    "response"
   ]
  },
  {
   "cell_type": "code",
   "execution_count": null,
   "id": "1d7ded58-e13c-42c8-a0cd-f10e7dea8c1d",
   "metadata": {},
   "outputs": [],
   "source": [
    "response['spreadsheetId']\n",
    "response['replies'][0]['addSheet']['properties']['title']\n",
    "response['replies'][0]['addSheet']['properties']['sheetId']"
   ]
  },
  {
   "cell_type": "code",
   "execution_count": null,
   "id": "b39fe85d-a0ef-4b9d-bff3-2ff785b16cbc",
   "metadata": {},
   "outputs": [],
   "source": [
    "response"
   ]
  },
  {
   "cell_type": "code",
   "execution_count": null,
   "id": "5fdf1033-ec41-466b-b4a7-6af477929a98",
   "metadata": {},
   "outputs": [],
   "source": [
    "spreadsheets.delete_sheet(TEST_FILE_ID, 1059410011)"
   ]
  },
  {
   "cell_type": "code",
   "execution_count": null,
   "id": "9f5fce7a-d2ba-4c96-98c9-e8a91a93d784",
   "metadata": {},
   "outputs": [],
   "source": [
    "response = spreadsheets.get_sheet_names(TEST_READONLY_FILE_ID)\n",
    "response"
   ]
  },
  {
   "cell_type": "code",
   "execution_count": null,
   "id": "7653b82b-dae1-41f6-bf17-3613e33d6029",
   "metadata": {},
   "outputs": [],
   "source": [
    "spreadsheets.get_info(TEST_FILE_ID)"
   ]
  },
  {
   "cell_type": "code",
   "execution_count": null,
   "id": "f36dba2c-a1f6-4891-a3b7-823ba3a36ce6",
   "metadata": {},
   "outputs": [],
   "source": []
  },
  {
   "cell_type": "code",
   "execution_count": null,
   "id": "ffb63431-99de-4d88-b4d5-d3cf2a0c095c",
   "metadata": {},
   "outputs": [],
   "source": []
  },
  {
   "cell_type": "code",
   "execution_count": null,
   "id": "24764741-af8c-4555-8061-331194e3c23a",
   "metadata": {},
   "outputs": [],
   "source": [
    "spreadsheet_sheets = spreadsheets.get_sheets(TEST_WRITE_FILE_ID)\n",
    "spreadsheet_sheets"
   ]
  },
  {
   "cell_type": "code",
   "execution_count": null,
   "id": "aacc2b38-9c91-4131-a1a2-4decfcf98a01",
   "metadata": {},
   "outputs": [],
   "source": [
    "for sheet in spreadsheet_sheets:\n",
    "    if sheet['properties']['title'] == 'tmp__new_page_test':\n",
    "        response = spreadsheets.delete_sheet(TEST_WRITE_FILE_ID, sheet['properties']['sheetId'])\n",
    "        break"
   ]
  },
  {
   "cell_type": "code",
   "execution_count": null,
   "id": "675d41e3-7f83-48c5-93e6-4133fdac13ce",
   "metadata": {},
   "outputs": [],
   "source": []
  },
  {
   "cell_type": "code",
   "execution_count": 24,
   "id": "a2d9d656-9bea-484e-9767-b8a3ec9ab5ce",
   "metadata": {},
   "outputs": [],
   "source": [
    "from GoogleApiSupport import auth\n",
    "\n",
    "def get_file_info(file_id):\n",
    "    service = auth.get_service(\"drive\")\n",
    "    response = service.files().get(fileId=file_id, fields='*').execute()\n",
    "    return response\n",
    "\n",
    "def files():\n",
    "    service = auth.get_service(\"drive\")\n",
    "    response = service.files().list(q=\"\").execute()\n",
    "    return response['files']"
   ]
  },
  {
   "cell_type": "code",
   "execution_count": 25,
   "id": "a18d77c8-aa8f-4ab3-b7c6-0fd52f0240e8",
   "metadata": {},
   "outputs": [
    {
     "data": {
      "text/plain": [
       "{'kind': 'drive#file',\n",
       " 'id': '1VseXKRYujkryQ5jsp5ddegu2RZ7Pc0dWvY8KYoCm0O4',\n",
       " 'name': 'my_new_file',\n",
       " 'mimeType': 'application/vnd.google-apps.spreadsheet',\n",
       " 'starred': False,\n",
       " 'trashed': False,\n",
       " 'explicitlyTrashed': False,\n",
       " 'parents': ['0ACCZWkAaI1BzUk9PVA'],\n",
       " 'spaces': ['drive'],\n",
       " 'version': '4',\n",
       " 'webViewLink': 'https://docs.google.com/spreadsheets/d/1VseXKRYujkryQ5jsp5ddegu2RZ7Pc0dWvY8KYoCm0O4/edit?usp=drivesdk',\n",
       " 'iconLink': 'https://drive-thirdparty.googleusercontent.com/16/type/application/vnd.google-apps.spreadsheet',\n",
       " 'hasThumbnail': True,\n",
       " 'thumbnailLink': 'https://docs.google.com/feeds/vt?gd=true&id=1VseXKRYujkryQ5jsp5ddegu2RZ7Pc0dWvY8KYoCm0O4&v=1&s=AMedNnoAAAAAY04EznWUt3rhHoNX1rbVzRYkE7oPQ4If&sz=s220',\n",
       " 'thumbnailVersion': '1',\n",
       " 'viewedByMe': True,\n",
       " 'viewedByMeTime': '2022-10-17T23:10:34.244Z',\n",
       " 'createdTime': '2022-10-17T23:10:32.804Z',\n",
       " 'modifiedTime': '2022-10-17T23:10:34.244Z',\n",
       " 'modifiedByMeTime': '2022-10-17T23:10:34.244Z',\n",
       " 'modifiedByMe': True,\n",
       " 'owners': [{'kind': 'drive#user',\n",
       "   'displayName': 'test-credential@my-project-1470411376725.iam.gserviceaccount.com',\n",
       "   'photoLink': 'https://lh3.googleusercontent.com/a/default-user=s64',\n",
       "   'me': True,\n",
       "   'permissionId': '06375046731165610966',\n",
       "   'emailAddress': 'test-credential@my-project-1470411376725.iam.gserviceaccount.com'}],\n",
       " 'lastModifyingUser': {'kind': 'drive#user',\n",
       "  'displayName': 'test-credential@my-project-1470411376725.iam.gserviceaccount.com',\n",
       "  'photoLink': 'https://lh3.googleusercontent.com/a/default-user=s64',\n",
       "  'me': True,\n",
       "  'permissionId': '06375046731165610966',\n",
       "  'emailAddress': 'test-credential@my-project-1470411376725.iam.gserviceaccount.com'},\n",
       " 'shared': False,\n",
       " 'ownedByMe': True,\n",
       " 'capabilities': {'canAcceptOwnership': False,\n",
       "  'canAddChildren': False,\n",
       "  'canAddMyDriveParent': False,\n",
       "  'canChangeCopyRequiresWriterPermission': True,\n",
       "  'canChangeSecurityUpdateEnabled': False,\n",
       "  'canChangeViewersCanCopyContent': True,\n",
       "  'canComment': True,\n",
       "  'canCopy': True,\n",
       "  'canDelete': True,\n",
       "  'canDownload': True,\n",
       "  'canEdit': True,\n",
       "  'canListChildren': False,\n",
       "  'canModifyContent': True,\n",
       "  'canModifyLabels': False,\n",
       "  'canMoveChildrenWithinDrive': False,\n",
       "  'canMoveItemIntoTeamDrive': True,\n",
       "  'canMoveItemOutOfDrive': True,\n",
       "  'canMoveItemWithinDrive': True,\n",
       "  'canReadLabels': False,\n",
       "  'canReadRevisions': True,\n",
       "  'canRemoveChildren': False,\n",
       "  'canRemoveMyDriveParent': True,\n",
       "  'canRename': True,\n",
       "  'canShare': True,\n",
       "  'canTrash': True,\n",
       "  'canUntrash': True},\n",
       " 'viewersCanCopyContent': True,\n",
       " 'copyRequiresWriterPermission': False,\n",
       " 'writersCanShare': True,\n",
       " 'permissions': [{'kind': 'drive#permission',\n",
       "   'id': '06375046731165610966',\n",
       "   'type': 'user',\n",
       "   'emailAddress': 'test-credential@my-project-1470411376725.iam.gserviceaccount.com',\n",
       "   'role': 'owner',\n",
       "   'displayName': 'test-credential@my-project-1470411376725.iam.gserviceaccount.com',\n",
       "   'photoLink': 'https://lh3.googleusercontent.com/a/default-user=s64',\n",
       "   'deleted': False,\n",
       "   'pendingOwner': False}],\n",
       " 'permissionIds': ['06375046731165610966'],\n",
       " 'size': '1024',\n",
       " 'quotaBytesUsed': '1024',\n",
       " 'isAppAuthorized': True,\n",
       " 'exportLinks': {'application/x-vnd.oasis.opendocument.spreadsheet': 'https://docs.google.com/spreadsheets/export?id=1VseXKRYujkryQ5jsp5ddegu2RZ7Pc0dWvY8KYoCm0O4&exportFormat=ods',\n",
       "  'text/tab-separated-values': 'https://docs.google.com/spreadsheets/export?id=1VseXKRYujkryQ5jsp5ddegu2RZ7Pc0dWvY8KYoCm0O4&exportFormat=tsv',\n",
       "  'application/pdf': 'https://docs.google.com/spreadsheets/export?id=1VseXKRYujkryQ5jsp5ddegu2RZ7Pc0dWvY8KYoCm0O4&exportFormat=pdf',\n",
       "  'application/vnd.openxmlformats-officedocument.spreadsheetml.sheet': 'https://docs.google.com/spreadsheets/export?id=1VseXKRYujkryQ5jsp5ddegu2RZ7Pc0dWvY8KYoCm0O4&exportFormat=xlsx',\n",
       "  'text/csv': 'https://docs.google.com/spreadsheets/export?id=1VseXKRYujkryQ5jsp5ddegu2RZ7Pc0dWvY8KYoCm0O4&exportFormat=csv',\n",
       "  'application/zip': 'https://docs.google.com/spreadsheets/export?id=1VseXKRYujkryQ5jsp5ddegu2RZ7Pc0dWvY8KYoCm0O4&exportFormat=zip',\n",
       "  'application/vnd.oasis.opendocument.spreadsheet': 'https://docs.google.com/spreadsheets/export?id=1VseXKRYujkryQ5jsp5ddegu2RZ7Pc0dWvY8KYoCm0O4&exportFormat=ods'},\n",
       " 'linkShareMetadata': {'securityUpdateEligible': False,\n",
       "  'securityUpdateEnabled': True}}"
      ]
     },
     "execution_count": 25,
     "metadata": {},
     "output_type": "execute_result"
    }
   ],
   "source": [
    "get_file_info('1VseXKRYujkryQ5jsp5ddegu2RZ7Pc0dWvY8KYoCm0O4')"
   ]
  },
  {
   "cell_type": "code",
   "execution_count": null,
   "id": "f25aee07-65e3-47f8-bf67-1977590ab8e0",
   "metadata": {},
   "outputs": [],
   "source": [
    "drive.files_in_folder("
   ]
  }
 ],
 "metadata": {
  "kernelspec": {
   "display_name": "Python 3 (ipykernel)",
   "language": "python",
   "name": "python3"
  },
  "language_info": {
   "codemirror_mode": {
    "name": "ipython",
    "version": 3
   },
   "file_extension": ".py",
   "mimetype": "text/x-python",
   "name": "python",
   "nbconvert_exporter": "python",
   "pygments_lexer": "ipython3",
   "version": "3.10.6"
  }
 },
 "nbformat": 4,
 "nbformat_minor": 5
}
