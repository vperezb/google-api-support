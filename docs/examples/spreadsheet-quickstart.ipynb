{
 "cells": [
  {
   "cell_type": "code",
   "execution_count": 13,
   "id": "e48b5fd9-fdad-4f2c-9b5b-733ac1e5808f",
   "metadata": {},
   "outputs": [],
   "source": [
    "import os\n",
    "import sys\n",
    "\n",
    "import pandas as pd\n",
    "\n",
    "# Doing this to import the changed version of the library\n",
    "sys.path.append('../../GoogleApiSupport')\n",
    "import drive\n",
    "import spreadsheets"
   ]
  },
  {
   "cell_type": "code",
   "execution_count": 2,
   "id": "b60c2ea5",
   "metadata": {},
   "outputs": [],
   "source": [
    "TEST_WRITE_FILE_ID = '19Q8y1uR8SD27GiVN200e87ufoMklH2KBh2NfyQTEt9Q'\n",
    "TEST_READONLY_FILE_ID = '1cMTfxikXMAgmdVXj3PKuD1fX_vPnQmO5teg15zGarOc'\n",
    "\n",
    "GOOGLE_OAUTH_CREDENTIALS = r''\n",
    "GOOGLE_APPLICATION_CREDENTIALS = r''\n",
    "\n",
    "os.environ[\"GOOGLE_APPLICATION_CREDENTIALS\"] = GOOGLE_APPLICATION_CREDENTIALS\n",
    "os.environ[\"GOOGLE_OAUTH_CREDENTIALS\"] = GOOGLE_OAUTH_CREDENTIALS"
   ]
  },
  {
   "cell_type": "markdown",
   "id": "e285b1a3-344a-4aad-96c3-b5cae8d9a755",
   "metadata": {},
   "source": [
    "## Copy a file\n",
    "\n",
    "You can copy an entire spreadsheet document. And set a new name."
   ]
  },
  {
   "cell_type": "code",
   "execution_count": 3,
   "id": "7128b29f-d859-402a-af7e-6e0a67fb4349",
   "metadata": {},
   "outputs": [
    {
     "name": "stdout",
     "output_type": "stream",
     "text": [
      "Copying file 1cMTfxikXMAgmdVXj3PKuD1fX_vPnQmO5teg15zGarOc with name my_new_file\n"
     ]
    }
   ],
   "source": [
    "# Create a copy from the TEST_READONLY_FILE_ID\n",
    "my_copied_file = drive.copy_file(TEST_READONLY_FILE_ID, 'my_new_file')"
   ]
  },
  {
   "cell_type": "code",
   "execution_count": 4,
   "id": "66628a6c-e342-45cd-be48-6f346bf26e02",
   "metadata": {},
   "outputs": [
    {
     "data": {
      "text/plain": [
       "'17E9XQyI4VM6fupmXlcO5v2apWCAwqnmcogB0fbtQXHQ'"
      ]
     },
     "execution_count": 4,
     "metadata": {},
     "output_type": "execute_result"
    }
   ],
   "source": [
    "my_copied_file"
   ]
  },
  {
   "cell_type": "code",
   "execution_count": 5,
   "id": "d2df680c-f191-4dfb-be9c-081cbd2a210f",
   "metadata": {},
   "outputs": [
    {
     "data": {
      "text/plain": [
       "{'spreadsheetId': '17E9XQyI4VM6fupmXlcO5v2apWCAwqnmcogB0fbtQXHQ',\n",
       " 'replies': [{'addSheet': {'properties': {'sheetId': 447547761,\n",
       "     'title': 'tmp__new_page_test_2',\n",
       "     'index': 4,\n",
       "     'sheetType': 'GRID',\n",
       "     'gridProperties': {'rowCount': 1000, 'columnCount': 26}}}}]}"
      ]
     },
     "execution_count": 5,
     "metadata": {},
     "output_type": "execute_result"
    }
   ],
   "source": [
    "spreadsheets.add_sheet(my_copied_file, 'tmp__new_page_test')\n",
    "spreadsheets.add_sheet(my_copied_file, 'tmp__new_page_test_2')"
   ]
  },
  {
   "cell_type": "code",
   "execution_count": 6,
   "id": "09a7550d",
   "metadata": {},
   "outputs": [
    {
     "data": {
      "text/plain": [
       "['hello', 'world', 'third_sheet', 'tmp__new_page_test', 'tmp__new_page_test_2']"
      ]
     },
     "execution_count": 6,
     "metadata": {},
     "output_type": "execute_result"
    }
   ],
   "source": [
    "# Checking if we have the 2 previous created pages\n",
    "response = spreadsheets.get_sheet_names(my_copied_file)\n",
    "response"
   ]
  },
  {
   "cell_type": "code",
   "execution_count": 7,
   "id": "9841f0f5",
   "metadata": {},
   "outputs": [
    {
     "data": {
      "text/plain": [
       "[{'properties': {'sheetId': 0,\n",
       "   'title': 'hello',\n",
       "   'index': 0,\n",
       "   'sheetType': 'GRID',\n",
       "   'gridProperties': {'rowCount': 1000, 'columnCount': 26}}},\n",
       " {'properties': {'sheetId': 1641602497,\n",
       "   'title': 'world',\n",
       "   'index': 1,\n",
       "   'sheetType': 'GRID',\n",
       "   'gridProperties': {'rowCount': 1000, 'columnCount': 26}}},\n",
       " {'properties': {'sheetId': 1109152438,\n",
       "   'title': 'third_sheet',\n",
       "   'index': 2,\n",
       "   'sheetType': 'GRID',\n",
       "   'gridProperties': {'rowCount': 1000, 'columnCount': 26}}},\n",
       " {'properties': {'sheetId': 561207794,\n",
       "   'title': 'tmp__new_page_test',\n",
       "   'index': 3,\n",
       "   'sheetType': 'GRID',\n",
       "   'gridProperties': {'rowCount': 1000, 'columnCount': 26}}},\n",
       " {'properties': {'sheetId': 447547761,\n",
       "   'title': 'tmp__new_page_test_2',\n",
       "   'index': 4,\n",
       "   'sheetType': 'GRID',\n",
       "   'gridProperties': {'rowCount': 1000, 'columnCount': 26}}}]"
      ]
     },
     "execution_count": 7,
     "metadata": {},
     "output_type": "execute_result"
    }
   ],
   "source": [
    "# Retrieving spreadsheet sheets find sheet id's in order to \n",
    "# delete the last created sheet \"tmp__new_page_test_2\"\n",
    "# If we want full document info we can do get_info(spreadsheet_id) instead\n",
    "\n",
    "spreadsheets.get_sheets(my_copied_file)"
   ]
  },
  {
   "cell_type": "code",
   "execution_count": 9,
   "id": "b39fe85d-a0ef-4b9d-bff3-2ff785b16cbc",
   "metadata": {},
   "outputs": [
    {
     "data": {
      "text/plain": [
       "{'spreadsheetId': '17E9XQyI4VM6fupmXlcO5v2apWCAwqnmcogB0fbtQXHQ',\n",
       " 'replies': [{}]}"
      ]
     },
     "execution_count": 9,
     "metadata": {},
     "output_type": "execute_result"
    }
   ],
   "source": [
    "spreadsheets.delete_sheet(my_copied_file, 447547761)"
   ]
  },
  {
   "cell_type": "code",
   "execution_count": 10,
   "id": "5fdf1033-ec41-466b-b4a7-6af477929a98",
   "metadata": {},
   "outputs": [
    {
     "data": {
      "text/plain": [
       "['hello', 'world', 'third_sheet', 'tmp__new_page_test']"
      ]
     },
     "execution_count": 10,
     "metadata": {},
     "output_type": "execute_result"
    }
   ],
   "source": [
    "response = spreadsheets.get_sheet_names(my_copied_file)\n",
    "response"
   ]
  },
  {
   "cell_type": "code",
   "execution_count": 11,
   "id": "9f5fce7a-d2ba-4c96-98c9-e8a91a93d784",
   "metadata": {},
   "outputs": [
    {
     "data": {
      "text/html": [
       "<div>\n",
       "<style scoped>\n",
       "    .dataframe tbody tr th:only-of-type {\n",
       "        vertical-align: middle;\n",
       "    }\n",
       "\n",
       "    .dataframe tbody tr th {\n",
       "        vertical-align: top;\n",
       "    }\n",
       "\n",
       "    .dataframe thead th {\n",
       "        text-align: right;\n",
       "    }\n",
       "</style>\n",
       "<table border=\"1\" class=\"dataframe\">\n",
       "  <thead>\n",
       "    <tr style=\"text-align: right;\">\n",
       "      <th></th>\n",
       "      <th>r</th>\n",
       "      <th>o</th>\n",
       "      <th>c</th>\n",
       "    </tr>\n",
       "  </thead>\n",
       "  <tbody>\n",
       "    <tr>\n",
       "      <th>0</th>\n",
       "      <td>3</td>\n",
       "      <td>9</td>\n",
       "      <td>9</td>\n",
       "    </tr>\n",
       "    <tr>\n",
       "      <th>1</th>\n",
       "      <td>9</td>\n",
       "      <td>9</td>\n",
       "      <td>4</td>\n",
       "    </tr>\n",
       "    <tr>\n",
       "      <th>2</th>\n",
       "      <td>3</td>\n",
       "      <td>4</td>\n",
       "      <td>5</td>\n",
       "    </tr>\n",
       "  </tbody>\n",
       "</table>\n",
       "</div>"
      ],
      "text/plain": [
       "   r  o  c\n",
       "0  3  9  9\n",
       "1  9  9  4\n",
       "2  3  4  5"
      ]
     },
     "execution_count": 11,
     "metadata": {},
     "output_type": "execute_result"
    }
   ],
   "source": [
    "# We can also access to a specific sheet and get its values\n",
    "# to a dataframe object.\n",
    "# By default first row will be the header in pandas.Dataframe\n",
    "\n",
    "df_from_drive = spreadsheets.download_sheet_to_pandas(\n",
    "    my_copied_file, # Id of the spreadsheet\n",
    "    'hello' # Name of the sheet\n",
    ")\n",
    "\n",
    "df_from_drive.head()"
   ]
  },
  {
   "cell_type": "code",
   "execution_count": 12,
   "id": "9f5fce7a-d2ba-4c96-98c9-e8a91a93d784",
   "metadata": {},
   "outputs": [
    {
     "data": {
      "text/html": [
       "<div>\n",
       "<style scoped>\n",
       "    .dataframe tbody tr th:only-of-type {\n",
       "        vertical-align: middle;\n",
       "    }\n",
       "\n",
       "    .dataframe tbody tr th {\n",
       "        vertical-align: top;\n",
       "    }\n",
       "\n",
       "    .dataframe thead th {\n",
       "        text-align: right;\n",
       "    }\n",
       "</style>\n",
       "<table border=\"1\" class=\"dataframe\">\n",
       "  <thead>\n",
       "    <tr style=\"text-align: right;\">\n",
       "      <th></th>\n",
       "      <th>A</th>\n",
       "      <th>B</th>\n",
       "      <th>C</th>\n",
       "    </tr>\n",
       "  </thead>\n",
       "  <tbody>\n",
       "    <tr>\n",
       "      <th>0</th>\n",
       "      <td>r</td>\n",
       "      <td>o</td>\n",
       "      <td>c</td>\n",
       "    </tr>\n",
       "    <tr>\n",
       "      <th>1</th>\n",
       "      <td>3</td>\n",
       "      <td>9</td>\n",
       "      <td>9</td>\n",
       "    </tr>\n",
       "    <tr>\n",
       "      <th>2</th>\n",
       "      <td>9</td>\n",
       "      <td>9</td>\n",
       "      <td>4</td>\n",
       "    </tr>\n",
       "    <tr>\n",
       "      <th>3</th>\n",
       "      <td>3</td>\n",
       "      <td>4</td>\n",
       "      <td>5</td>\n",
       "    </tr>\n",
       "  </tbody>\n",
       "</table>\n",
       "</div>"
      ],
      "text/plain": [
       "   A  B  C\n",
       "0  r  o  c\n",
       "1  3  9  9\n",
       "2  9  9  4\n",
       "3  3  4  5"
      ]
     },
     "execution_count": 12,
     "metadata": {},
     "output_type": "execute_result"
    }
   ],
   "source": [
    "# We can request the first row in sheet to be the first row \n",
    "# of pandas content by generating a generic header. A, B, C...\n",
    "# we will need to set the has_header to False\n",
    "\n",
    "df_from_drive = spreadsheets.download_sheet_to_pandas(\n",
    "    my_copied_file, # Id of the spreadsheet\n",
    "    'hello', # Name of the sheet\n",
    "    has_header = False\n",
    ")\n",
    "\n",
    "df_from_drive.head()"
   ]
  },
  {
   "cell_type": "code",
   "execution_count": 14,
   "id": "7653b82b-dae1-41f6-bf17-3613e33d6029",
   "metadata": {},
   "outputs": [
    {
     "data": {
      "text/plain": [
       "{'spreadsheetId': '17E9XQyI4VM6fupmXlcO5v2apWCAwqnmcogB0fbtQXHQ',\n",
       " 'totalUpdatedRows': 4,\n",
       " 'totalUpdatedColumns': 3,\n",
       " 'totalUpdatedCells': 12,\n",
       " 'totalUpdatedSheets': 1,\n",
       " 'responses': [{'spreadsheetId': '17E9XQyI4VM6fupmXlcO5v2apWCAwqnmcogB0fbtQXHQ',\n",
       "   'updatedRange': 'world!A1:C4',\n",
       "   'updatedRows': 4,\n",
       "   'updatedColumns': 3,\n",
       "   'updatedCells': 12}]}"
      ]
     },
     "execution_count": 14,
     "metadata": {},
     "output_type": "execute_result"
    }
   ],
   "source": [
    "# And we can paste our data (from a DataFrame) in a sheet\n",
    "\n",
    "my_data = pd.DataFrame([[3,9,9],[9,9,4],[3,4,5]], columns = ['r','o','c'])\n",
    "\n",
    "spreadsheets.pandas_to_sheet(my_copied_file, 'world', my_data)"
   ]
  },
  {
   "cell_type": "code",
   "execution_count": 15,
   "id": "f36dba2c-a1f6-4891-a3b7-823ba3a36ce6",
   "metadata": {},
   "outputs": [
    {
     "data": {
      "text/plain": [
       "{'spreadsheetId': '17E9XQyI4VM6fupmXlcO5v2apWCAwqnmcogB0fbtQXHQ',\n",
       " 'totalUpdatedRows': 4,\n",
       " 'totalUpdatedColumns': 3,\n",
       " 'totalUpdatedCells': 12,\n",
       " 'totalUpdatedSheets': 1,\n",
       " 'responses': [{'spreadsheetId': '17E9XQyI4VM6fupmXlcO5v2apWCAwqnmcogB0fbtQXHQ',\n",
       "   'updatedRange': 'world!F8:H11',\n",
       "   'updatedRows': 4,\n",
       "   'updatedColumns': 3,\n",
       "   'updatedCells': 12}]}"
      ]
     },
     "execution_count": 15,
     "metadata": {},
     "output_type": "execute_result"
    }
   ],
   "source": [
    "# If we use starting_cell parameter, data will start pasting \n",
    "# at this cell\n",
    "spreadsheets.pandas_to_sheet(my_copied_file, 'world', my_data, starting_cell='F8')"
   ]
  },
  {
   "cell_type": "code",
   "execution_count": 16,
   "id": "ffb63431-99de-4d88-b4d5-d3cf2a0c095c",
   "metadata": {},
   "outputs": [
    {
     "data": {
      "text/plain": [
       "{'spreadsheetId': '17E9XQyI4VM6fupmXlcO5v2apWCAwqnmcogB0fbtQXHQ',\n",
       " 'clearedRange': 'world!A1:Z1000'}"
      ]
     },
     "execution_count": 16,
     "metadata": {},
     "output_type": "execute_result"
    }
   ],
   "source": [
    "# And we can clear sheet content by\n",
    "\n",
    "spreadsheets.clear_sheet(my_copied_file, 'world')"
   ]
  }
 ],
 "metadata": {
  "kernelspec": {
   "display_name": "Python 3.10.6 ('venv': venv)",
   "language": "python",
   "name": "python3"
  },
  "language_info": {
   "codemirror_mode": {
    "name": "ipython",
    "version": 3
   },
   "file_extension": ".py",
   "mimetype": "text/x-python",
   "name": "python",
   "nbconvert_exporter": "python",
   "pygments_lexer": "ipython3",
   "version": "3.10.6"
  },
  "vscode": {
   "interpreter": {
    "hash": "19a6a4521daa35fdf9e5657c5a5b29f4cb77eeb7b76815a45ee7f22976e7e04f"
   }
  }
 },
 "nbformat": 4,
 "nbformat_minor": 5
}
