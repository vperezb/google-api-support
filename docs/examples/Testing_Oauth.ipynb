{
 "cells": [
  {
   "cell_type": "markdown",
   "id": "baf8efc9",
   "metadata": {},
   "source": [
    "## Testing the addition of OAuth to the get_service function\n",
    "\n",
    "In this current get_service, there is an additional two lines at the end of the funciton to get the title of a slide - in order to check how it works immediately. \n",
    "\n",
    "This has title api call has not been added to the auth.py version of the function"
   ]
  },
  {
   "cell_type": "code",
   "execution_count": 1,
   "id": "677d495d",
   "metadata": {},
   "outputs": [],
   "source": [
    "import os\n",
    "import logging\n",
    "from oauth2client.client import _raise_exception_for_reading_json\n",
    "\n",
    "from oauth2client.service_account import ServiceAccountCredentials\n",
    "from apiclient.discovery import build\n",
    "from httplib2 import Http\n",
    "\n",
    "from google.auth.transport.requests import Request\n",
    "from google.oauth2.credentials import Credentials\n",
    "from google_auth_oauthlib.flow import InstalledAppFlow\n",
    "\n",
    "from GoogleApiSupport import apis\n",
    "\n",
    "\n",
    "\n",
    "\n",
    "def get_service(api_name, service_credentials_path=None, oauth_credentials_path=None, additional_apis=[]):\n",
    "    service_credentials_path = get_service_credentials_path(service_credentials_path)\n",
    "    service = None\n",
    "    scopes = apis.get_api_config(api_name)['scope']\n",
    "    if additional_apis:\n",
    "        scopes = [scopes]\n",
    "        for additional_api_name in additional_apis:\n",
    "            scopes.append(apis.get_api_config(additional_api_name)['scope'])\n",
    "    \n",
    "    if service_credentials_path: \n",
    "\n",
    "        credentials = ServiceAccountCredentials.from_json_keyfile_name(\n",
    "            service_credentials_path,\n",
    "            scopes=scopes\n",
    "        )\n",
    "\n",
    "        service = build(apis.get_api_config(api_name)['build'],\n",
    "            apis.get_api_config(api_name)['version'],\n",
    "            http=credentials.authorize(Http()),\n",
    "            cache_discovery=False\n",
    "        )\n",
    "\n",
    "        return service\n",
    "    \n",
    "    elif not service_credentials_path: \n",
    "        oauth_credentials_path = get_oauth_credentials_path(oauth_credentials_path)\n",
    "\n",
    "        creds = None\n",
    "        # The file token.json stores the user's access and refresh tokens, and is\n",
    "        # created automatically when the authorization flow completes for the first\n",
    "        # time.\n",
    "        if os.path.exists('token.json'):\n",
    "            creds = Credentials.from_authorized_user_file('token.json', scopes)\n",
    "        # If there are no (valid) credentials available, let the user log in.\n",
    "        if not creds or not creds.valid:\n",
    "            if creds and creds.expired and creds.refresh_token:\n",
    "                creds.refresh(Request())\n",
    "            else:\n",
    "                flow = InstalledAppFlow.from_client_secrets_file(\n",
    "                    oauth_credentials_path, scopes)\n",
    "                creds = flow.run_local_server(port=0)\n",
    "            # Save the credentials for the next run\n",
    "            with open('token.json', 'w') as token:\n",
    "                token.write(creds.to_json())\n",
    "\n",
    "        service = build(apis.get_api_config(api_name)['build'],\n",
    "        apis.get_api_config(api_name)['version'],\n",
    "        credentials=creds)\n",
    "        if not service:\n",
    "            logging.error(' UNABLE TO RETRIEVE CREDENTIALS | Expected credential paths: ' + ', '.join(\n",
    "                oauth_credentials_path) + ' | More info in project Documentation folder setup_credentials.md file')\n",
    "        \n",
    "        slides = service.presentations().get(presentationId=DOCUMENT_ID).execute()\n",
    "\n",
    "        print('The title of the document is: {}'.format(slides.get('title')))\n",
    "        return service\n",
    "\n",
    "\n",
    "\n",
    "def get_service_credentials_path(service_credentials_path=None):\n",
    "    if service_credentials_path:\n",
    "        service_credentials_path = service_credentials_path\n",
    "        logging.info('Trying to use credentials from ' + 'Method 0: Path from function argument | ' + service_credentials_path)\n",
    "    elif os.environ.get('GOOGLE_APPLICATION_CREDENTIALS'):\n",
    "        service_credentials_path = os.environ['GOOGLE_APPLICATION_CREDENTIALS']\n",
    "        logging.info('Trying to use credentials from ' + 'Method 1: Environment variable GOOGLE_APPLICATION_CREDENTIALS | ' + service_credentials_path)\n",
    "    elif os.environ.get('SERVICE_CREDENTIALS_PATH'): ## TO DO: DELETE - DEPRECATED\n",
    "        service_credentials_path = os.environ['SERVICE_CREDENTIALS_PATH']\n",
    "        logging.warning('Trying to use credentials from ' +  'Method 2 (deprecated): Environment variable SERVICE_CREDENTIALS_PATH | ' + service_credentials_path)\n",
    "    else:\n",
    "        service_credentials_path = os.path.join(os.path.expanduser('~'), '.credentials', 'service_credentials.json')\n",
    "        logging.info('Tying to use credentials from ' + 'Method 3: Default path for credentials ~/.credentials/service_credentials.json | ' + service_credentials_path + ' | Nor path passed neither environment variables, take a look into `docs/setup_credentials.md` file')      \n",
    "      \n",
    "    if (os.path.isfile(service_credentials_path)):\n",
    "        logging.info('Found file credentials in' + service_credentials_path)\n",
    "        return service_credentials_path\n",
    "\n",
    "        \n",
    "        \n",
    "def get_oauth_credentials_path(oauth_credentials_path=None):\n",
    "    if oauth_credentials_path:\n",
    "        oauth_credentials_path = oauth_credentials_path\n",
    "        logging.info('Trying to use credentials from ' + 'Method 0: Path from function argument | ' + oauth_credentials_path)\n",
    "    elif os.environ.get('GOOGLE_OAUTH_CREDENTIALS'):\n",
    "        oauth_credentials_path = os.environ['GOOGLE_OAUTH_CREDENTIALS']\n",
    "        logging.info('Trying to use credentials from ' + 'Method 1: Environment variable GOOGLE_OAUTH_CREDENTIALS | ' + oauth_credentials_path)\n",
    "#     else:\n",
    "#         get_oauth_credentials_path = os.path.join(os.path.expanduser('~'), '.credentials', 'oauth_credentials.json')\n",
    "#         logging.info('Tying to use credentials from ' + 'Method 3: Default path for credentials ~/.credentials/credentials.json | ' + oauth_credentials_path + ' | Nor path passed neither environment variables, take a look into `docs/setup_credentials.md` file')      \n",
    "      \n",
    "    if (os.path.isfile(oauth_credentials_path)):\n",
    "        logging.info('Found file credentials in' + oauth_credentials_path)\n",
    "        return oauth_credentials_path\n",
    "    else:\n",
    "        raise Exception('UNABLE TO FIND OAUTH OR SERVICE CREDENTIALS FILE | Environment variable not defined or file from provided path does not exist | More info in project docs folder setup_credentials.md file')\n",
    "\n"
   ]
  },
  {
   "cell_type": "code",
   "execution_count": 2,
   "id": "6d7245b7",
   "metadata": {},
   "outputs": [],
   "source": [
    "DOCUMENT_ID = \"\"\n",
    "os.environ[\"GOOGLE_OAUTH_CREDENTIALS\"] = \"\""
   ]
  },
  {
   "cell_type": "code",
   "execution_count": 4,
   "id": "b80fd3a7",
   "metadata": {
    "scrolled": true
   },
   "outputs": [
    {
     "name": "stdout",
     "output_type": "stream",
     "text": [
      "The title of the document is: testing_api\n"
     ]
    },
    {
     "data": {
      "text/plain": [
       "<googleapiclient.discovery.Resource at 0x104f71c00>"
      ]
     },
     "execution_count": 4,
     "metadata": {},
     "output_type": "execute_result"
    }
   ],
   "source": [
    "get_service(\"slides\")"
   ]
  },
  {
   "cell_type": "code",
   "execution_count": null,
   "id": "879252bc",
   "metadata": {},
   "outputs": [],
   "source": []
  }
 ],
 "metadata": {
  "kernelspec": {
   "display_name": "Python 3 (ipykernel)",
   "language": "python",
   "name": "python3"
  },
  "language_info": {
   "codemirror_mode": {
    "name": "ipython",
    "version": 3
   },
   "file_extension": ".py",
   "mimetype": "text/x-python",
   "name": "python",
   "nbconvert_exporter": "python",
   "pygments_lexer": "ipython3",
   "version": "3.10.6"
  }
 },
 "nbformat": 4,
 "nbformat_minor": 5
}
