{
 "cells": [
  {
   "cell_type": "markdown",
   "metadata": {},
   "source": [
    "# Example of using classes\n",
    "\n",
    "Currently there are classes for the following types of files inside of Google Drive:\n",
    "* `GoogleDriveFile`: Class for any type of file\n",
    "* `GoogleDriveFolder`: Class for folders\n",
    "* `GoogleSheets`: Class for Google Sheets file\n",
    "* `GoogleSlides`: Class for Google Slides file\n",
    "\n",
    "`GoogleDriveFile` is the general class on which all the others are based on. These then expand the properties and methods to fit the specific types of Google files.\n",
    "\n",
    "Since the authorization call is performed inside of the class, you need to set the credentials path before importing the classes.\n",
    "\n"
   ]
  },
  {
   "cell_type": "code",
   "execution_count": 8,
   "metadata": {},
   "outputs": [],
   "source": [
    "import os\n",
    "import numpy as np\n",
    "import pandas as pd\n",
    "import seaborn as sns"
   ]
  },
  {
   "cell_type": "code",
   "execution_count": 14,
   "metadata": {},
   "outputs": [],
   "source": [
    "# Credentials\n",
    "ROOT_DIR=os.getcwd()\n",
    "# os.environ['GOOGLE_APPLICATION_CREDENTIALS'] = os.path.join(ROOT_DIR, \".credentials/service_credentials.json\")\n",
    "os.environ['GOOGLE_APPLICATION_CREDENTIALS'] = \"../.credentials/service_credentials.json\""
   ]
  },
  {
   "cell_type": "code",
   "execution_count": 17,
   "metadata": {},
   "outputs": [],
   "source": [
    "# Google API classes\n",
    "import drive\n",
    "import sheets\n",
    "import slides"
   ]
  },
  {
   "cell_type": "markdown",
   "metadata": {},
   "source": []
  }
 ],
 "metadata": {
  "kernelspec": {
   "display_name": "Python 3.8.0 64-bit",
   "language": "python",
   "name": "python3"
  },
  "language_info": {
   "codemirror_mode": {
    "name": "ipython",
    "version": 3
   },
   "file_extension": ".py",
   "mimetype": "text/x-python",
   "name": "python",
   "nbconvert_exporter": "python",
   "pygments_lexer": "ipython3",
   "version": "3.8.0"
  },
  "orig_nbformat": 4,
  "vscode": {
   "interpreter": {
    "hash": "aee8b7b246df8f9039afb4144a1f6fd8d2ca17a180786b69acc140d282b71a49"
   }
  }
 },
 "nbformat": 4,
 "nbformat_minor": 2
}
