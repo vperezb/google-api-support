{
 "cells": [
  {
   "cell_type": "markdown",
   "metadata": {},
   "source": [
    "# Example of using classes for Google files\n",
    "\n",
    "Currently there are classes for the following types of files inside of Google Drive:\n",
    "* `GoogleDriveFile`: Class for any type of file\n",
    "* `GoogleDriveFolder`: Class for folders\n",
    "* `GoogleSheets`: Class for Google Sheets file\n",
    "* `GoogleSlides`: Class for Google Slides file\n",
    "\n",
    "`GoogleDriveFile` is the general class on which all the others are based on. These then expand the properties and methods to fit the specific types of Google files.\n",
    "\n",
    ":warning: Since the authorization call is performed inside of the class, you need to set the credentials path before importing the classes.\n",
    "\n",
    "To display the capabilities of these classes, we will go through some examples."
   ]
  },
  {
   "cell_type": "code",
   "execution_count": 1,
   "metadata": {},
   "outputs": [],
   "source": [
    "import os\n",
    "import numpy as np\n",
    "import pandas as pd\n",
    "import seaborn as sns"
   ]
  },
  {
   "cell_type": "code",
   "execution_count": 2,
   "metadata": {},
   "outputs": [],
   "source": [
    "# Credentials\n",
    "ROOT_DIR=os.getcwd()\n",
    "os.environ['GOOGLE_APPLICATION_CREDENTIALS'] = os.path.join(ROOT_DIR, \"../.credentials/service_credentials.json\")\n",
    "# os.environ['GOOGLE_APPLICATION_CREDENTIALS'] = \"../.credentials/service_credentials.json\""
   ]
  },
  {
   "cell_type": "code",
   "execution_count": 3,
   "metadata": {},
   "outputs": [],
   "source": [
    "# Doing this to import the classes\n",
    "# import sys\n",
    "# sys.path.append('../../dev')\n",
    "import drive\n",
    "import sheets\n",
    "import slides"
   ]
  },
  {
   "cell_type": "markdown",
   "metadata": {},
   "source": [
    "### `GoogleDriveFile` example\n",
    "\n",
    "1. Create file\n",
    "2. Open it in browser\n",
    "3. Export file\n",
    "4. Delete file\n",
    "\n",
    "Depending on the type of file, a different method is used to get file in local path. `export` is used for Google Workspace files (e.g. Google Sheets, Google Slides), while `download` is used for other files stored in Google Drive.\n",
    "\n",
    "Since here we are creating a Google Docs, we will use the method `export`."
   ]
  },
  {
   "cell_type": "code",
   "execution_count": null,
   "metadata": {},
   "outputs": [],
   "source": [
    "file_created = drive.GoogleDriveFile.create(file_name='New Spreadsheet', \n",
    "                                            mime_type='application/vnd.google-apps.spreadsheet', \n",
    "                                            parent_folder_id='1SNyrByFiT--CqHW3s0IWHGmXN7G_2o7H', \n",
    "                                            transfer_permissions=True)\n",
    "file_created"
   ]
  },
  {
   "cell_type": "code",
   "execution_count": null,
   "metadata": {},
   "outputs": [],
   "source": [
    "# Doing this to import the changed version of the library\n",
    "import sys\n",
    "sys.path.append('../../GoogleApiSupport')\n",
    "import auth"
   ]
  },
  {
   "cell_type": "code",
   "execution_count": null,
   "metadata": {},
   "outputs": [],
   "source": [
    "service = auth.get_service('drive')"
   ]
  },
  {
   "cell_type": "code",
   "execution_count": null,
   "metadata": {},
   "outputs": [],
   "source": [
    "file_created.open()"
   ]
  },
  {
   "cell_type": "code",
   "execution_count": null,
   "metadata": {},
   "outputs": [],
   "source": [
    "file_created.export()"
   ]
  }
 ],
 "metadata": {
  "kernelspec": {
   "display_name": "Python 3.8.0 64-bit",
   "language": "python",
   "name": "python3"
  },
  "language_info": {
   "codemirror_mode": {
    "name": "ipython",
    "version": 3
   },
   "file_extension": ".py",
   "mimetype": "text/x-python",
   "name": "python",
   "nbconvert_exporter": "python",
   "pygments_lexer": "ipython3",
   "version": "3.8.0"
  },
  "orig_nbformat": 4,
  "vscode": {
   "interpreter": {
    "hash": "aee8b7b246df8f9039afb4144a1f6fd8d2ca17a180786b69acc140d282b71a49"
   }
  }
 },
 "nbformat": 4,
 "nbformat_minor": 2
}
